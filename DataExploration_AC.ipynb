{
 "cells": [
  {
   "cell_type": "code",
   "execution_count": 13,
   "metadata": {
    "executionInfo": {
     "elapsed": 259,
     "status": "ok",
     "timestamp": 1613014744134,
     "user": {
      "displayName": "Andrew Cho",
      "photoUrl": "",
      "userId": "04667029709322104325"
     },
     "user_tz": 300
    },
    "id": "tNurLtaoDLgY"
   },
   "outputs": [],
   "source": [
    "import pandas as pd\n",
    "import numpy as np\n",
    "import os\n",
    "import seaborn as sns\n",
    "import sqlite3\n",
    "import matplotlib.pyplot as plt\n",
    "import re\n",
    "\n",
    "pd.set_option('display.max_columns', None)\n",
    "pd.set_option('display.max_rows', None)\n",
    "\n",
    "# Set working directory\n",
    "os.chdir('C:/Users/andre/Dropbox/Penn MCIT/CIT 550 Database/Project')"
   ]
  },
  {
   "cell_type": "markdown",
   "metadata": {},
   "source": [
    "# Read each table"
   ]
  },
  {
   "cell_type": "markdown",
   "metadata": {
    "id": "K6sXD8vtLD0v"
   },
   "source": [
    "## Spotify API\n",
    "\n",
    "- More than 1.2M songs collected from Spotify’s API\n",
    "- The dataset includes features like name, artists, album, release date, key, explicit flag, duration, popularity, danceability, and more\n",
    "- The data was created in December 2020. Each row represents a single track\n",
    "- Link to source https://www.kaggle.com/rodolfofigueroa/spotify-12m-songs"
   ]
  },
  {
   "cell_type": "code",
   "execution_count": 2,
   "metadata": {
    "colab": {
     "base_uri": "https://localhost:8080/"
    },
    "executionInfo": {
     "elapsed": 9855,
     "status": "ok",
     "timestamp": 1613013081164,
     "user": {
      "displayName": "Andrew Cho",
      "photoUrl": "",
      "userId": "04667029709322104325"
     },
     "user_tz": 300
    },
    "id": "aaxvespxDPa9",
    "outputId": "8ac2df76-2ef7-41e1-dba8-bf3cb53b31a5"
   },
   "outputs": [
    {
     "data": {
      "text/plain": [
       "(1204025, 24)"
      ]
     },
     "execution_count": 2,
     "metadata": {},
     "output_type": "execute_result"
    }
   ],
   "source": [
    "df_spotify = pd.read_csv('./Data/tracks_features.csv.zip')\n",
    "df_spotify.shape"
   ]
  },
  {
   "cell_type": "code",
   "execution_count": 16,
   "metadata": {
    "colab": {
     "base_uri": "https://localhost:8080/"
    },
    "executionInfo": {
     "elapsed": 207,
     "status": "ok",
     "timestamp": 1613013112552,
     "user": {
      "displayName": "Andrew Cho",
      "photoUrl": "",
      "userId": "04667029709322104325"
     },
     "user_tz": 300
    },
    "id": "zTChZQ6cEHf-",
    "outputId": "c68140a9-b03d-4172-825e-86109bf53ae6"
   },
   "outputs": [
    {
     "data": {
      "text/html": [
       "<div>\n",
       "<style scoped>\n",
       "    .dataframe tbody tr th:only-of-type {\n",
       "        vertical-align: middle;\n",
       "    }\n",
       "\n",
       "    .dataframe tbody tr th {\n",
       "        vertical-align: top;\n",
       "    }\n",
       "\n",
       "    .dataframe thead th {\n",
       "        text-align: right;\n",
       "    }\n",
       "</style>\n",
       "<table border=\"1\" class=\"dataframe\">\n",
       "  <thead>\n",
       "    <tr style=\"text-align: right;\">\n",
       "      <th></th>\n",
       "      <th>id</th>\n",
       "      <th>name</th>\n",
       "      <th>album</th>\n",
       "      <th>album_id</th>\n",
       "      <th>artists</th>\n",
       "      <th>artist_ids</th>\n",
       "      <th>track_number</th>\n",
       "      <th>disc_number</th>\n",
       "      <th>explicit</th>\n",
       "      <th>danceability</th>\n",
       "      <th>energy</th>\n",
       "      <th>key</th>\n",
       "      <th>loudness</th>\n",
       "      <th>mode</th>\n",
       "      <th>speechiness</th>\n",
       "      <th>acousticness</th>\n",
       "      <th>instrumentalness</th>\n",
       "      <th>liveness</th>\n",
       "      <th>valence</th>\n",
       "      <th>tempo</th>\n",
       "      <th>duration_ms</th>\n",
       "      <th>time_signature</th>\n",
       "      <th>year</th>\n",
       "      <th>release_date</th>\n",
       "    </tr>\n",
       "  </thead>\n",
       "  <tbody>\n",
       "    <tr>\n",
       "      <th>0</th>\n",
       "      <td>7lmeHLHBe4nmXzuXc0HDjk</td>\n",
       "      <td>Testify</td>\n",
       "      <td>The Battle Of Los Angeles</td>\n",
       "      <td>2eia0myWFgoHuttJytCxgX</td>\n",
       "      <td>['Rage Against The Machine']</td>\n",
       "      <td>['2d0hyoQ5ynDBnkvAbJKORj']</td>\n",
       "      <td>1</td>\n",
       "      <td>1</td>\n",
       "      <td>False</td>\n",
       "      <td>0.470</td>\n",
       "      <td>0.978</td>\n",
       "      <td>7</td>\n",
       "      <td>-5.399</td>\n",
       "      <td>1</td>\n",
       "      <td>0.0727</td>\n",
       "      <td>0.02610</td>\n",
       "      <td>0.000011</td>\n",
       "      <td>0.3560</td>\n",
       "      <td>0.503</td>\n",
       "      <td>117.906</td>\n",
       "      <td>210133</td>\n",
       "      <td>4.0</td>\n",
       "      <td>1999</td>\n",
       "      <td>1999-11-02</td>\n",
       "    </tr>\n",
       "    <tr>\n",
       "      <th>1</th>\n",
       "      <td>1wsRitfRRtWyEapl0q22o8</td>\n",
       "      <td>Guerrilla Radio</td>\n",
       "      <td>The Battle Of Los Angeles</td>\n",
       "      <td>2eia0myWFgoHuttJytCxgX</td>\n",
       "      <td>['Rage Against The Machine']</td>\n",
       "      <td>['2d0hyoQ5ynDBnkvAbJKORj']</td>\n",
       "      <td>2</td>\n",
       "      <td>1</td>\n",
       "      <td>True</td>\n",
       "      <td>0.599</td>\n",
       "      <td>0.957</td>\n",
       "      <td>11</td>\n",
       "      <td>-5.764</td>\n",
       "      <td>1</td>\n",
       "      <td>0.1880</td>\n",
       "      <td>0.01290</td>\n",
       "      <td>0.000071</td>\n",
       "      <td>0.1550</td>\n",
       "      <td>0.489</td>\n",
       "      <td>103.680</td>\n",
       "      <td>206200</td>\n",
       "      <td>4.0</td>\n",
       "      <td>1999</td>\n",
       "      <td>1999-11-02</td>\n",
       "    </tr>\n",
       "    <tr>\n",
       "      <th>2</th>\n",
       "      <td>1hR0fIFK2qRG3f3RF70pb7</td>\n",
       "      <td>Calm Like a Bomb</td>\n",
       "      <td>The Battle Of Los Angeles</td>\n",
       "      <td>2eia0myWFgoHuttJytCxgX</td>\n",
       "      <td>['Rage Against The Machine']</td>\n",
       "      <td>['2d0hyoQ5ynDBnkvAbJKORj']</td>\n",
       "      <td>3</td>\n",
       "      <td>1</td>\n",
       "      <td>False</td>\n",
       "      <td>0.315</td>\n",
       "      <td>0.970</td>\n",
       "      <td>7</td>\n",
       "      <td>-5.424</td>\n",
       "      <td>1</td>\n",
       "      <td>0.4830</td>\n",
       "      <td>0.02340</td>\n",
       "      <td>0.000002</td>\n",
       "      <td>0.1220</td>\n",
       "      <td>0.370</td>\n",
       "      <td>149.749</td>\n",
       "      <td>298893</td>\n",
       "      <td>4.0</td>\n",
       "      <td>1999</td>\n",
       "      <td>1999-11-02</td>\n",
       "    </tr>\n",
       "    <tr>\n",
       "      <th>3</th>\n",
       "      <td>2lbASgTSoDO7MTuLAXlTW0</td>\n",
       "      <td>Mic Check</td>\n",
       "      <td>The Battle Of Los Angeles</td>\n",
       "      <td>2eia0myWFgoHuttJytCxgX</td>\n",
       "      <td>['Rage Against The Machine']</td>\n",
       "      <td>['2d0hyoQ5ynDBnkvAbJKORj']</td>\n",
       "      <td>4</td>\n",
       "      <td>1</td>\n",
       "      <td>True</td>\n",
       "      <td>0.440</td>\n",
       "      <td>0.967</td>\n",
       "      <td>11</td>\n",
       "      <td>-5.830</td>\n",
       "      <td>0</td>\n",
       "      <td>0.2370</td>\n",
       "      <td>0.16300</td>\n",
       "      <td>0.000004</td>\n",
       "      <td>0.1210</td>\n",
       "      <td>0.574</td>\n",
       "      <td>96.752</td>\n",
       "      <td>213640</td>\n",
       "      <td>4.0</td>\n",
       "      <td>1999</td>\n",
       "      <td>1999-11-02</td>\n",
       "    </tr>\n",
       "    <tr>\n",
       "      <th>4</th>\n",
       "      <td>1MQTmpYOZ6fcMQc56Hdo7T</td>\n",
       "      <td>Sleep Now In the Fire</td>\n",
       "      <td>The Battle Of Los Angeles</td>\n",
       "      <td>2eia0myWFgoHuttJytCxgX</td>\n",
       "      <td>['Rage Against The Machine']</td>\n",
       "      <td>['2d0hyoQ5ynDBnkvAbJKORj']</td>\n",
       "      <td>5</td>\n",
       "      <td>1</td>\n",
       "      <td>False</td>\n",
       "      <td>0.426</td>\n",
       "      <td>0.929</td>\n",
       "      <td>2</td>\n",
       "      <td>-6.729</td>\n",
       "      <td>1</td>\n",
       "      <td>0.0701</td>\n",
       "      <td>0.00162</td>\n",
       "      <td>0.105000</td>\n",
       "      <td>0.0789</td>\n",
       "      <td>0.539</td>\n",
       "      <td>127.059</td>\n",
       "      <td>205600</td>\n",
       "      <td>4.0</td>\n",
       "      <td>1999</td>\n",
       "      <td>1999-11-02</td>\n",
       "    </tr>\n",
       "  </tbody>\n",
       "</table>\n",
       "</div>"
      ],
      "text/plain": [
       "                       id                   name                      album  \\\n",
       "0  7lmeHLHBe4nmXzuXc0HDjk                Testify  The Battle Of Los Angeles   \n",
       "1  1wsRitfRRtWyEapl0q22o8        Guerrilla Radio  The Battle Of Los Angeles   \n",
       "2  1hR0fIFK2qRG3f3RF70pb7       Calm Like a Bomb  The Battle Of Los Angeles   \n",
       "3  2lbASgTSoDO7MTuLAXlTW0              Mic Check  The Battle Of Los Angeles   \n",
       "4  1MQTmpYOZ6fcMQc56Hdo7T  Sleep Now In the Fire  The Battle Of Los Angeles   \n",
       "\n",
       "                 album_id                       artists  \\\n",
       "0  2eia0myWFgoHuttJytCxgX  ['Rage Against The Machine']   \n",
       "1  2eia0myWFgoHuttJytCxgX  ['Rage Against The Machine']   \n",
       "2  2eia0myWFgoHuttJytCxgX  ['Rage Against The Machine']   \n",
       "3  2eia0myWFgoHuttJytCxgX  ['Rage Against The Machine']   \n",
       "4  2eia0myWFgoHuttJytCxgX  ['Rage Against The Machine']   \n",
       "\n",
       "                   artist_ids  track_number  disc_number  explicit  \\\n",
       "0  ['2d0hyoQ5ynDBnkvAbJKORj']             1            1     False   \n",
       "1  ['2d0hyoQ5ynDBnkvAbJKORj']             2            1      True   \n",
       "2  ['2d0hyoQ5ynDBnkvAbJKORj']             3            1     False   \n",
       "3  ['2d0hyoQ5ynDBnkvAbJKORj']             4            1      True   \n",
       "4  ['2d0hyoQ5ynDBnkvAbJKORj']             5            1     False   \n",
       "\n",
       "   danceability  energy  key  loudness  mode  speechiness  acousticness  \\\n",
       "0         0.470   0.978    7    -5.399     1       0.0727       0.02610   \n",
       "1         0.599   0.957   11    -5.764     1       0.1880       0.01290   \n",
       "2         0.315   0.970    7    -5.424     1       0.4830       0.02340   \n",
       "3         0.440   0.967   11    -5.830     0       0.2370       0.16300   \n",
       "4         0.426   0.929    2    -6.729     1       0.0701       0.00162   \n",
       "\n",
       "   instrumentalness  liveness  valence    tempo  duration_ms  time_signature  \\\n",
       "0          0.000011    0.3560    0.503  117.906       210133             4.0   \n",
       "1          0.000071    0.1550    0.489  103.680       206200             4.0   \n",
       "2          0.000002    0.1220    0.370  149.749       298893             4.0   \n",
       "3          0.000004    0.1210    0.574   96.752       213640             4.0   \n",
       "4          0.105000    0.0789    0.539  127.059       205600             4.0   \n",
       "\n",
       "   year release_date  \n",
       "0  1999   1999-11-02  \n",
       "1  1999   1999-11-02  \n",
       "2  1999   1999-11-02  \n",
       "3  1999   1999-11-02  \n",
       "4  1999   1999-11-02  "
      ]
     },
     "execution_count": 16,
     "metadata": {},
     "output_type": "execute_result"
    }
   ],
   "source": [
    "df_spotify.head()"
   ]
  },
  {
   "cell_type": "markdown",
   "metadata": {},
   "source": [
    "## Album ratings\n",
    "- Features user and critic review aggregated by Album of the Year and Metacritic\n",
    "- The dataset includes more than 30K rows of albums and aggregated critic and user review scores\n",
    "- Link to source https://www.kaggle.com/kauvinlucas/30000-albums-aggregated-review-ratings"
   ]
  },
  {
   "cell_type": "code",
   "execution_count": 3,
   "metadata": {},
   "outputs": [
    {
     "data": {
      "text/plain": [
       "(32358, 16)"
      ]
     },
     "execution_count": 3,
     "metadata": {},
     "output_type": "execute_result"
    }
   ],
   "source": [
    "album = pd.read_csv('./Data/album_ratings.csv.zip')\n",
    "album.shape"
   ]
  },
  {
   "cell_type": "code",
   "execution_count": 4,
   "metadata": {},
   "outputs": [
    {
     "data": {
      "text/html": [
       "<div>\n",
       "<style scoped>\n",
       "    .dataframe tbody tr th:only-of-type {\n",
       "        vertical-align: middle;\n",
       "    }\n",
       "\n",
       "    .dataframe tbody tr th {\n",
       "        vertical-align: top;\n",
       "    }\n",
       "\n",
       "    .dataframe thead th {\n",
       "        text-align: right;\n",
       "    }\n",
       "</style>\n",
       "<table border=\"1\" class=\"dataframe\">\n",
       "  <thead>\n",
       "    <tr style=\"text-align: right;\">\n",
       "      <th></th>\n",
       "      <th>Artist</th>\n",
       "      <th>Title</th>\n",
       "      <th>Release Month</th>\n",
       "      <th>Release Day</th>\n",
       "      <th>Release Year</th>\n",
       "      <th>Format</th>\n",
       "      <th>Label</th>\n",
       "      <th>Genre</th>\n",
       "      <th>Metacritic Critic Score</th>\n",
       "      <th>Metacritic Reviews</th>\n",
       "      <th>Metacritic User Score</th>\n",
       "      <th>Metacritic User Reviews</th>\n",
       "      <th>AOTY Critic Score</th>\n",
       "      <th>AOTY Critic Reviews</th>\n",
       "      <th>AOTY User Score</th>\n",
       "      <th>AOTY User Reviews</th>\n",
       "    </tr>\n",
       "  </thead>\n",
       "  <tbody>\n",
       "    <tr>\n",
       "      <th>0</th>\n",
       "      <td>Neko Case</td>\n",
       "      <td>Middle Cyclone</td>\n",
       "      <td>March</td>\n",
       "      <td>3</td>\n",
       "      <td>2009</td>\n",
       "      <td>LP</td>\n",
       "      <td>ANTI-</td>\n",
       "      <td>Alt-Country</td>\n",
       "      <td>79.0</td>\n",
       "      <td>31.0</td>\n",
       "      <td>8.7</td>\n",
       "      <td>31.0</td>\n",
       "      <td>79</td>\n",
       "      <td>25</td>\n",
       "      <td>78</td>\n",
       "      <td>55</td>\n",
       "    </tr>\n",
       "    <tr>\n",
       "      <th>1</th>\n",
       "      <td>Jason Isbell &amp; The 400 Unit</td>\n",
       "      <td>Jason Isbell &amp; The 400 Unit</td>\n",
       "      <td>February</td>\n",
       "      <td>17</td>\n",
       "      <td>2009</td>\n",
       "      <td>LP</td>\n",
       "      <td>Thirty Tigers</td>\n",
       "      <td>Country Rock</td>\n",
       "      <td>70.0</td>\n",
       "      <td>14.0</td>\n",
       "      <td>8.4</td>\n",
       "      <td>7.0</td>\n",
       "      <td>73</td>\n",
       "      <td>11</td>\n",
       "      <td>73</td>\n",
       "      <td>8</td>\n",
       "    </tr>\n",
       "    <tr>\n",
       "      <th>2</th>\n",
       "      <td>Animal Collective</td>\n",
       "      <td>Merriweather Post Pavilion</td>\n",
       "      <td>January</td>\n",
       "      <td>20</td>\n",
       "      <td>2009</td>\n",
       "      <td>LP</td>\n",
       "      <td>Domino</td>\n",
       "      <td>Psychedelic Pop</td>\n",
       "      <td>89.0</td>\n",
       "      <td>36.0</td>\n",
       "      <td>8.5</td>\n",
       "      <td>619.0</td>\n",
       "      <td>92</td>\n",
       "      <td>30</td>\n",
       "      <td>87</td>\n",
       "      <td>1335</td>\n",
       "    </tr>\n",
       "    <tr>\n",
       "      <th>3</th>\n",
       "      <td>Bruce Springsteen</td>\n",
       "      <td>Working on a Dream</td>\n",
       "      <td>January</td>\n",
       "      <td>27</td>\n",
       "      <td>2009</td>\n",
       "      <td>LP</td>\n",
       "      <td>Columbia Records</td>\n",
       "      <td>Rock</td>\n",
       "      <td>72.0</td>\n",
       "      <td>29.0</td>\n",
       "      <td>7.9</td>\n",
       "      <td>101.0</td>\n",
       "      <td>70</td>\n",
       "      <td>23</td>\n",
       "      <td>66</td>\n",
       "      <td>38</td>\n",
       "    </tr>\n",
       "    <tr>\n",
       "      <th>4</th>\n",
       "      <td>Andrew Bird</td>\n",
       "      <td>Noble Beast</td>\n",
       "      <td>January</td>\n",
       "      <td>20</td>\n",
       "      <td>2009</td>\n",
       "      <td>LP</td>\n",
       "      <td>Fat Possum</td>\n",
       "      <td>Singer-Songwriter</td>\n",
       "      <td>79.0</td>\n",
       "      <td>29.0</td>\n",
       "      <td>8.7</td>\n",
       "      <td>47.0</td>\n",
       "      <td>74</td>\n",
       "      <td>24</td>\n",
       "      <td>78</td>\n",
       "      <td>44</td>\n",
       "    </tr>\n",
       "  </tbody>\n",
       "</table>\n",
       "</div>"
      ],
      "text/plain": [
       "                        Artist                        Title Release Month  \\\n",
       "0                    Neko Case               Middle Cyclone         March   \n",
       "1  Jason Isbell & The 400 Unit  Jason Isbell & The 400 Unit      February   \n",
       "2            Animal Collective   Merriweather Post Pavilion       January   \n",
       "3            Bruce Springsteen           Working on a Dream       January   \n",
       "4                  Andrew Bird                  Noble Beast       January   \n",
       "\n",
       "  Release Day  Release Year Format             Label              Genre  \\\n",
       "0           3          2009     LP             ANTI-        Alt-Country   \n",
       "1          17          2009     LP     Thirty Tigers       Country Rock   \n",
       "2          20          2009     LP            Domino    Psychedelic Pop   \n",
       "3          27          2009     LP  Columbia Records               Rock   \n",
       "4          20          2009     LP        Fat Possum  Singer-Songwriter   \n",
       "\n",
       "   Metacritic Critic Score  Metacritic Reviews  Metacritic User Score  \\\n",
       "0                     79.0                31.0                    8.7   \n",
       "1                     70.0                14.0                    8.4   \n",
       "2                     89.0                36.0                    8.5   \n",
       "3                     72.0                29.0                    7.9   \n",
       "4                     79.0                29.0                    8.7   \n",
       "\n",
       "   Metacritic User Reviews  AOTY Critic Score  AOTY Critic Reviews  \\\n",
       "0                     31.0                 79                   25   \n",
       "1                      7.0                 73                   11   \n",
       "2                    619.0                 92                   30   \n",
       "3                    101.0                 70                   23   \n",
       "4                     47.0                 74                   24   \n",
       "\n",
       "   AOTY User Score  AOTY User Reviews  \n",
       "0               78                 55  \n",
       "1               73                  8  \n",
       "2               87               1335  \n",
       "3               66                 38  \n",
       "4               78                 44  "
      ]
     },
     "execution_count": 4,
     "metadata": {},
     "output_type": "execute_result"
    }
   ],
   "source": [
    "album.head()"
   ]
  },
  {
   "cell_type": "markdown",
   "metadata": {
    "id": "VbFYNIe0Fb5N"
   },
   "source": [
    "# Pitchfork database\n",
    "- Includes over 18K Pitchfork (an online music magazine) review going back to January 1999\n",
    "- The database contains separate tables on artists, content, genres, labels, reviews, and years\n",
    "- Link to source https://www.kaggle.com/nolanbconaway/pitchfork-data"
   ]
  },
  {
   "cell_type": "code",
   "execution_count": 4,
   "metadata": {
    "executionInfo": {
     "elapsed": 923,
     "status": "ok",
     "timestamp": 1613014940649,
     "user": {
      "displayName": "Andrew Cho",
      "photoUrl": "",
      "userId": "04667029709322104325"
     },
     "user_tz": 300
    },
    "id": "pk86owiCFb_l"
   },
   "outputs": [
    {
     "name": "stdout",
     "output_type": "stream",
     "text": [
      "---artists---\n",
      "   reviewid          artist\n",
      "0     22703  massive attack\n",
      "1     22721        krallice\n",
      "===================================\n",
      "---content---\n",
      "   reviewid                                            content\n",
      "0     22703  “Trip-hop” eventually became a ’90s punchline,...\n",
      "1     22721  Eight years, five albums, and two EPs in, the ...\n",
      "===================================\n",
      "---genres---\n",
      "   reviewid       genre\n",
      "0     22703  electronic\n",
      "1     22721       metal\n",
      "===================================\n",
      "---labels---\n",
      "   reviewid      label\n",
      "0     22703     virgin\n",
      "1     22721  hathenter\n",
      "===================================\n",
      "---reviews---\n",
      "   reviewid         title          artist  \\\n",
      "0     22703     mezzanine  massive attack   \n",
      "1     22721  prelapsarian        krallice   \n",
      "\n",
      "                                                 url  score  best_new_music  \\\n",
      "0  http://pitchfork.com/reviews/albums/22703-mezz...    9.3               0   \n",
      "1  http://pitchfork.com/reviews/albums/22721-prel...    7.9               0   \n",
      "\n",
      "        author  author_type    pub_date  pub_weekday  pub_day  pub_month  \\\n",
      "0  nate patrin  contributor  2017-01-08            6        8          1   \n",
      "1     zoe camp  contributor  2017-01-07            5        7          1   \n",
      "\n",
      "   pub_year  \n",
      "0      2017  \n",
      "1      2017  \n",
      "===================================\n",
      "---years---\n",
      "   reviewid    year\n",
      "0     22703  1998.0\n",
      "1     22721  2016.0\n",
      "===================================\n"
     ]
    }
   ],
   "source": [
    "# Connect to SQLlite\n",
    "con = sqlite3.connect(\"./Data/database.sqlite\")\n",
    "\n",
    "tables = [\n",
    "          'artists', \n",
    "          'content',\n",
    "          'genres',\n",
    "          'labels',\n",
    "          'reviews',\n",
    "          'years'\n",
    "]\n",
    "\n",
    "for tbl in tables:\n",
    "  print(f'---{tbl}---')\n",
    "  print(pd.read_sql_query(f\"SELECT * FROM {tbl}\", con).head(2))\n",
    "  print('===================================')"
   ]
  },
  {
   "cell_type": "code",
   "execution_count": null,
   "metadata": {
    "colab": {
     "base_uri": "https://localhost:8080/"
    },
    "executionInfo": {
     "elapsed": 299,
     "status": "ok",
     "timestamp": 1613015700168,
     "user": {
      "displayName": "Andrew Cho",
      "photoUrl": "",
      "userId": "04667029709322104325"
     },
     "user_tz": 300
    },
    "id": "3zVsrExyOZZY",
    "outputId": "d625c689-ec4d-4a4c-8608-f9c90cadc04a"
   },
   "outputs": [],
   "source": [
    "# Need to pull STD via pandas. not sure why SQL won't do STDEV\n",
    "pd.read_sql_query('select * from years', con)['year'].std()"
   ]
  },
  {
   "cell_type": "code",
   "execution_count": 5,
   "metadata": {},
   "outputs": [
    {
     "data": {
      "text/plain": [
       "(18401, 8)"
      ]
     },
     "execution_count": 5,
     "metadata": {},
     "output_type": "execute_result"
    }
   ],
   "source": [
    "# Make a pandas df with just the columns we need\n",
    "query_str = \\\n",
    "\"\"\"\n",
    "SELECT \n",
    "    t1.reviewid\n",
    "    , t1.title as album_name\n",
    "    , t1.artist\n",
    "    , t1.url as pf_url\n",
    "    , t1.score as pf_score\n",
    "    , t1.author as pf_author\n",
    "    , t1.pub_date as pf_pubdate\n",
    "    , t2.content as pf_review\n",
    "FROM reviews t1 \n",
    "    JOIN content t2 ON t1.reviewid = t2.reviewid\n",
    "\"\"\"\n",
    "\n",
    "pf = pd.read_sql_query(query_str, con)\n",
    "pf.shape"
   ]
  },
  {
   "cell_type": "code",
   "execution_count": 7,
   "metadata": {},
   "outputs": [
    {
     "data": {
      "text/html": [
       "<div>\n",
       "<style scoped>\n",
       "    .dataframe tbody tr th:only-of-type {\n",
       "        vertical-align: middle;\n",
       "    }\n",
       "\n",
       "    .dataframe tbody tr th {\n",
       "        vertical-align: top;\n",
       "    }\n",
       "\n",
       "    .dataframe thead th {\n",
       "        text-align: right;\n",
       "    }\n",
       "</style>\n",
       "<table border=\"1\" class=\"dataframe\">\n",
       "  <thead>\n",
       "    <tr style=\"text-align: right;\">\n",
       "      <th></th>\n",
       "      <th>reviewid</th>\n",
       "      <th>album_name</th>\n",
       "      <th>artist</th>\n",
       "      <th>pf_url</th>\n",
       "      <th>pf_score</th>\n",
       "      <th>pf_author</th>\n",
       "      <th>pf_pubdate</th>\n",
       "      <th>pf_review</th>\n",
       "    </tr>\n",
       "  </thead>\n",
       "  <tbody>\n",
       "    <tr>\n",
       "      <th>0</th>\n",
       "      <td>22703</td>\n",
       "      <td>mezzanine</td>\n",
       "      <td>massive attack</td>\n",
       "      <td>http://pitchfork.com/reviews/albums/22703-mezz...</td>\n",
       "      <td>9.3</td>\n",
       "      <td>nate patrin</td>\n",
       "      <td>2017-01-08</td>\n",
       "      <td>“Trip-hop” eventually became a ’90s punchline,...</td>\n",
       "    </tr>\n",
       "    <tr>\n",
       "      <th>1</th>\n",
       "      <td>22721</td>\n",
       "      <td>prelapsarian</td>\n",
       "      <td>krallice</td>\n",
       "      <td>http://pitchfork.com/reviews/albums/22721-prel...</td>\n",
       "      <td>7.9</td>\n",
       "      <td>zoe camp</td>\n",
       "      <td>2017-01-07</td>\n",
       "      <td>Eight years, five albums, and two EPs in, the ...</td>\n",
       "    </tr>\n",
       "    <tr>\n",
       "      <th>2</th>\n",
       "      <td>22659</td>\n",
       "      <td>all of them naturals</td>\n",
       "      <td>uranium club</td>\n",
       "      <td>http://pitchfork.com/reviews/albums/22659-all-...</td>\n",
       "      <td>7.3</td>\n",
       "      <td>david glickman</td>\n",
       "      <td>2017-01-07</td>\n",
       "      <td>Minneapolis’ Uranium Club seem to revel in bei...</td>\n",
       "    </tr>\n",
       "    <tr>\n",
       "      <th>3</th>\n",
       "      <td>22661</td>\n",
       "      <td>first songs</td>\n",
       "      <td>kleenex, liliput</td>\n",
       "      <td>http://pitchfork.com/reviews/albums/22661-firs...</td>\n",
       "      <td>9.0</td>\n",
       "      <td>jenn pelly</td>\n",
       "      <td>2017-01-06</td>\n",
       "      <td>Kleenex began with a crash. It transpired one ...</td>\n",
       "    </tr>\n",
       "    <tr>\n",
       "      <th>4</th>\n",
       "      <td>22725</td>\n",
       "      <td>new start</td>\n",
       "      <td>taso</td>\n",
       "      <td>http://pitchfork.com/reviews/albums/22725-new-...</td>\n",
       "      <td>8.1</td>\n",
       "      <td>kevin lozano</td>\n",
       "      <td>2017-01-06</td>\n",
       "      <td>It is impossible to consider a given release b...</td>\n",
       "    </tr>\n",
       "  </tbody>\n",
       "</table>\n",
       "</div>"
      ],
      "text/plain": [
       "   reviewid            album_name            artist  \\\n",
       "0     22703             mezzanine    massive attack   \n",
       "1     22721          prelapsarian          krallice   \n",
       "2     22659  all of them naturals      uranium club   \n",
       "3     22661           first songs  kleenex, liliput   \n",
       "4     22725             new start              taso   \n",
       "\n",
       "                                              pf_url  pf_score  \\\n",
       "0  http://pitchfork.com/reviews/albums/22703-mezz...       9.3   \n",
       "1  http://pitchfork.com/reviews/albums/22721-prel...       7.9   \n",
       "2  http://pitchfork.com/reviews/albums/22659-all-...       7.3   \n",
       "3  http://pitchfork.com/reviews/albums/22661-firs...       9.0   \n",
       "4  http://pitchfork.com/reviews/albums/22725-new-...       8.1   \n",
       "\n",
       "        pf_author  pf_pubdate  \\\n",
       "0     nate patrin  2017-01-08   \n",
       "1        zoe camp  2017-01-07   \n",
       "2  david glickman  2017-01-07   \n",
       "3      jenn pelly  2017-01-06   \n",
       "4    kevin lozano  2017-01-06   \n",
       "\n",
       "                                           pf_review  \n",
       "0  “Trip-hop” eventually became a ’90s punchline,...  \n",
       "1  Eight years, five albums, and two EPs in, the ...  \n",
       "2  Minneapolis’ Uranium Club seem to revel in bei...  \n",
       "3  Kleenex began with a crash. It transpired one ...  \n",
       "4  It is impossible to consider a given release b...  "
      ]
     },
     "execution_count": 7,
     "metadata": {},
     "output_type": "execute_result"
    }
   ],
   "source": [
    "pf.head()"
   ]
  },
  {
   "cell_type": "markdown",
   "metadata": {},
   "source": [
    "# Pre-processing\n",
    "- Convert all strings to lowercase\n",
    "- Select columns of interest\n",
    "- Entity resolution (see how many albums overlap between the 3 tables)\n",
    "- Remove rows with missing album or song names"
   ]
  },
  {
   "cell_type": "code",
   "execution_count": 36,
   "metadata": {},
   "outputs": [],
   "source": [
    "def getFirstArtist(s):\n",
    "    s = s.replace(\"[\", \"\").replace(\"]\", \"\")\n",
    "    first_element = s.find(\",\")\n",
    "    return s[:first_element].replace(\"'\", \"\")\n",
    "    \n",
    "#     first_idx = s.find(\"[\") + 1\n",
    "#     return s[first_idx:(s[first_idx:].find(\"]\")+first_idx)]"
   ]
  },
  {
   "cell_type": "code",
   "execution_count": 37,
   "metadata": {},
   "outputs": [
    {
     "name": "stdout",
     "output_type": "stream",
     "text": [
      "<<spotify>>\n",
      "-- To lowercase: ['name', 'album', 'artists']\n",
      "-- Selecting columns all\n",
      "-- Removing 0 rows from spotify due to name\n",
      "-- Removing 0 rows from spotify due to album\n",
      "\n",
      "<<ratings>>\n",
      "-- To lowercase: ['Artist', 'Title', 'Label', 'Genre']\n",
      "-- Selecting columns ['Artist', 'Title', 'Format', 'Label', 'Genre', 'AOTY Critic Score', 'AOTY Critic Reviews', 'AOTY User Score', 'AOTY User Reviews']\n",
      "-- Removing 0 rows from ratings due to Artist\n",
      "-- Removing 1 rows from ratings due to Title\n",
      "\n",
      "<<pitchfork>>\n",
      "-- To lowercase: ['album_name', 'artist', 'pf_author']\n",
      "-- Selecting columns all\n",
      "-- Removing 0 rows from pitchfork due to album_name\n",
      "-- Removing 0 rows from pitchfork due to artist\n",
      "\n"
     ]
    }
   ],
   "source": [
    "# List all the preprocessings to do here\n",
    "tbls_dict = {\n",
    "    'spotify': {\n",
    "        'data': df_spotify,\n",
    "        'cols_to_lc': ['name', 'album', 'artists'],\n",
    "        'cols_to_select': 'all', # Select all\n",
    "        'cols_mi': ['name', 'album']\n",
    "    },\n",
    "    'ratings': {\n",
    "        'data': album,\n",
    "        'cols_to_lc': ['Artist', 'Title', 'Label', 'Genre'],\n",
    "        'cols_to_select': [\n",
    "            'Artist', 'Title', 'Format', 'Label', 'Genre', \n",
    "            'AOTY Critic Score', 'AOTY Critic Reviews', 'AOTY User Score', 'AOTY User Reviews'\n",
    "        ],\n",
    "        'cols_mi': ['Artist', 'Title']\n",
    "    },\n",
    "    'pitchfork': {\n",
    "        'data': pf,\n",
    "        'cols_to_lc': ['album_name', 'artist', 'pf_author'],\n",
    "        'cols_to_select': 'all', # Select all since we already did the subset during the SQL query\n",
    "        'cols_mi': ['album_name', 'artist']\n",
    "    }\n",
    "}\n",
    "\n",
    "# Perform the preprocessing steps\n",
    "for k, v in tbls_dict.items():\n",
    "    print(f'<<{k}>>')\n",
    "    \n",
    "    # To lowercase\n",
    "    v['data'] = v['data'].apply(lambda d:d.str.lower() if d.name in v['cols_to_lc'] else d)\n",
    "    print(f'-- To lowercase: {v[\"cols_to_lc\"]}')\n",
    "    \n",
    "    # Select\n",
    "    if v['cols_to_select'] != 'all':\n",
    "        v['data'] = v['data'][v['cols_to_select']].copy()\n",
    "    print(f'-- Selecting columns {v[\"cols_to_select\"]}')\n",
    "          \n",
    "    # Remove rows with missing album or song names\n",
    "    for col in v['cols_mi']:\n",
    "        print(f'-- Removing {v[\"data\"][col].isna().sum()} rows from {k} due to {col}')\n",
    "        v['data'] = v['data'][v['data'][col].notna()].copy()\n",
    "        \n",
    "    print('')\n",
    "    \n",
    "# One thing specific to the Spotify data: It lists all artists for a given song\n",
    "# For the sake of joining with other datasets, pull out the first artist\n",
    "tbls_dict['spotify']['data']['first_artist'] = tbls_dict['spotify']['data']['artists'].apply(lambda s:getFirstArtist(s))"
   ]
  },
  {
   "cell_type": "code",
   "execution_count": 43,
   "metadata": {},
   "outputs": [
    {
     "data": {
      "text/plain": [
       "(1248159, 44)"
      ]
     },
     "execution_count": 43,
     "metadata": {},
     "output_type": "execute_result"
    }
   ],
   "source": [
    "# Merge Spotify with album ratings\n",
    "df = tbls_dict['spotify']['data'].merge(tbls_dict['ratings']['data'], \n",
    "                                        left_on = ['album', 'first_artist'], \n",
    "                                        right_on = ['Title', 'Artist'], \n",
    "                                        how = 'outer',\n",
    "                                        indicator = True\n",
    "                                       )\n",
    "df.rename(columns = {'_merge':'_merge1'}, inplace = True)\n",
    "\n",
    "# Merge Pitchfork reviews\n",
    "df = df.merge(tbls_dict['pitchfork']['data'], \n",
    "              left_on = ['album', 'first_artist'], \n",
    "              right_on = ['album_name', 'artist'], \n",
    "              how = 'outer',\n",
    "              indicator = True\n",
    "             )\n",
    "df.rename(columns = {'_merge':'_merge2'}, inplace = True)\n",
    "\n",
    "df.shape"
   ]
  },
  {
   "cell_type": "code",
   "execution_count": 47,
   "metadata": {},
   "outputs": [
    {
     "data": {
      "text/html": [
       "<div>\n",
       "<style scoped>\n",
       "    .dataframe tbody tr th:only-of-type {\n",
       "        vertical-align: middle;\n",
       "    }\n",
       "\n",
       "    .dataframe tbody tr th {\n",
       "        vertical-align: top;\n",
       "    }\n",
       "\n",
       "    .dataframe thead th {\n",
       "        text-align: right;\n",
       "    }\n",
       "</style>\n",
       "<table border=\"1\" class=\"dataframe\">\n",
       "  <thead>\n",
       "    <tr style=\"text-align: right;\">\n",
       "      <th>_merge2</th>\n",
       "      <th>left_only</th>\n",
       "      <th>both</th>\n",
       "      <th>All</th>\n",
       "    </tr>\n",
       "    <tr>\n",
       "      <th>_merge1</th>\n",
       "      <th></th>\n",
       "      <th></th>\n",
       "      <th></th>\n",
       "    </tr>\n",
       "  </thead>\n",
       "  <tbody>\n",
       "    <tr>\n",
       "      <th>left_only</th>\n",
       "      <td>181550</td>\n",
       "      <td>903</td>\n",
       "      <td>182453</td>\n",
       "    </tr>\n",
       "    <tr>\n",
       "      <th>right_only</th>\n",
       "      <td>1</td>\n",
       "      <td>0</td>\n",
       "      <td>1</td>\n",
       "    </tr>\n",
       "    <tr>\n",
       "      <th>both</th>\n",
       "      <td>3581</td>\n",
       "      <td>1168</td>\n",
       "      <td>4749</td>\n",
       "    </tr>\n",
       "    <tr>\n",
       "      <th>All</th>\n",
       "      <td>185132</td>\n",
       "      <td>2071</td>\n",
       "      <td>187203</td>\n",
       "    </tr>\n",
       "  </tbody>\n",
       "</table>\n",
       "</div>"
      ],
      "text/plain": [
       "_merge2     left_only  both     All\n",
       "_merge1                            \n",
       "left_only      181550   903  182453\n",
       "right_only          1     0       1\n",
       "both             3581  1168    4749\n",
       "All            185132  2071  187203"
      ]
     },
     "execution_count": 47,
     "metadata": {},
     "output_type": "execute_result"
    }
   ],
   "source": [
    "# This is basically the Venn diagram of album joins across the 3 datasets\n",
    "a = df.drop_duplicates(['album', 'first_artist'])\n",
    "pd.crosstab(a['_merge1'], a['_merge2'], margins = True)"
   ]
  },
  {
   "cell_type": "markdown",
   "metadata": {},
   "source": [
    "# WIP - trying to find album overlaps"
   ]
  },
  {
   "cell_type": "code",
   "execution_count": 31,
   "metadata": {},
   "outputs": [
    {
     "data": {
      "text/plain": [
       "106162"
      ]
     },
     "execution_count": 31,
     "metadata": {},
     "output_type": "execute_result"
    }
   ],
   "source": [
    "len(df_spotify['album'].unique())"
   ]
  },
  {
   "cell_type": "code",
   "execution_count": 32,
   "metadata": {},
   "outputs": [
    {
     "data": {
      "text/plain": [
       "30232"
      ]
     },
     "execution_count": 32,
     "metadata": {},
     "output_type": "execute_result"
    }
   ],
   "source": [
    "len(album['Title'].unique())"
   ]
  },
  {
   "cell_type": "code",
   "execution_count": 33,
   "metadata": {},
   "outputs": [
    {
     "data": {
      "text/plain": [
       "17835"
      ]
     },
     "execution_count": 33,
     "metadata": {},
     "output_type": "execute_result"
    }
   ],
   "source": [
    "len(pf['album_name'].unique())"
   ]
  },
  {
   "cell_type": "code",
   "execution_count": 36,
   "metadata": {},
   "outputs": [
    {
     "name": "stdout",
     "output_type": "stream",
     "text": [
      "Spotify-Album Ratings 7187\n",
      "Spotify-PF Ratings 94\n",
      "PF Rating-Album Ratings 78\n"
     ]
    }
   ],
   "source": [
    "spotify_albums = set(df_spotify['album'])\n",
    "album_albums = set(album['Title'])\n",
    "pf_albums = set(pf['album_name'])\n",
    "\n",
    "print('Spotify-Album Ratings', len(spotify_albums.intersection(album_albums)))\n",
    "print('Spotify-PF Ratings', len(spotify_albums.intersection(pf_albums)))\n",
    "print('PF Rating-Album Ratings', len(pf_albums.intersection(album_albums)))\n",
    "\n",
    "# Why are these numbers so tiny"
   ]
  },
  {
   "cell_type": "code",
   "execution_count": 65,
   "metadata": {},
   "outputs": [
    {
     "data": {
      "text/plain": [
       "{'#1',\n",
       " '10',\n",
       " '1000',\n",
       " '119',\n",
       " '11:11',\n",
       " '13',\n",
       " '18',\n",
       " '19',\n",
       " '1966',\n",
       " '1977',\n",
       " '1988',\n",
       " '1999',\n",
       " '2',\n",
       " '23',\n",
       " '25',\n",
       " '3',\n",
       " '333',\n",
       " '4',\n",
       " '5',\n",
       " '55',\n",
       " '6',\n",
       " '7',\n",
       " '77',\n",
       " '8',\n",
       " '9',\n",
       " '92982',\n",
       " 'ii',\n",
       " 'neo',\n",
       " 'pom pom',\n",
       " 'utopia'}"
      ]
     },
     "execution_count": 65,
     "metadata": {},
     "output_type": "execute_result"
    }
   ],
   "source": [
    "# The albums that exist in all three tables\n",
    "# Some of these might not even be right since they might be by different artists\n",
    "pf_albums.intersection(album_albums).intersection(spotify_albums)"
   ]
  },
  {
   "cell_type": "code",
   "execution_count": 79,
   "metadata": {},
   "outputs": [
    {
     "data": {
      "text/html": [
       "<div>\n",
       "<style scoped>\n",
       "    .dataframe tbody tr th:only-of-type {\n",
       "        vertical-align: middle;\n",
       "    }\n",
       "\n",
       "    .dataframe tbody tr th {\n",
       "        vertical-align: top;\n",
       "    }\n",
       "\n",
       "    .dataframe thead th {\n",
       "        text-align: right;\n",
       "    }\n",
       "</style>\n",
       "<table border=\"1\" class=\"dataframe\">\n",
       "  <thead>\n",
       "    <tr style=\"text-align: right;\">\n",
       "      <th></th>\n",
       "      <th>reviewid</th>\n",
       "      <th>album_name</th>\n",
       "      <th>artist</th>\n",
       "      <th>pf_url</th>\n",
       "      <th>pf_score</th>\n",
       "      <th>pf_author</th>\n",
       "      <th>pf_pubdate</th>\n",
       "      <th>pf_review</th>\n",
       "    </tr>\n",
       "  </thead>\n",
       "  <tbody>\n",
       "    <tr>\n",
       "      <th>0</th>\n",
       "      <td>22703</td>\n",
       "      <td>mezzanine</td>\n",
       "      <td>massive attack</td>\n",
       "      <td>http://pitchfork.com/reviews/albums/22703-mezz...</td>\n",
       "      <td>9.3</td>\n",
       "      <td>nate patrin</td>\n",
       "      <td>2017-01-08</td>\n",
       "      <td>“Trip-hop” eventually became a ’90s punchline,...</td>\n",
       "    </tr>\n",
       "    <tr>\n",
       "      <th>1</th>\n",
       "      <td>22721</td>\n",
       "      <td>prelapsarian</td>\n",
       "      <td>krallice</td>\n",
       "      <td>http://pitchfork.com/reviews/albums/22721-prel...</td>\n",
       "      <td>7.9</td>\n",
       "      <td>zoe camp</td>\n",
       "      <td>2017-01-07</td>\n",
       "      <td>Eight years, five albums, and two EPs in, the ...</td>\n",
       "    </tr>\n",
       "    <tr>\n",
       "      <th>2</th>\n",
       "      <td>22659</td>\n",
       "      <td>all of them naturals</td>\n",
       "      <td>uranium club</td>\n",
       "      <td>http://pitchfork.com/reviews/albums/22659-all-...</td>\n",
       "      <td>7.3</td>\n",
       "      <td>david glickman</td>\n",
       "      <td>2017-01-07</td>\n",
       "      <td>Minneapolis’ Uranium Club seem to revel in bei...</td>\n",
       "    </tr>\n",
       "    <tr>\n",
       "      <th>3</th>\n",
       "      <td>22661</td>\n",
       "      <td>first songs</td>\n",
       "      <td>kleenex, liliput</td>\n",
       "      <td>http://pitchfork.com/reviews/albums/22661-firs...</td>\n",
       "      <td>9.0</td>\n",
       "      <td>jenn pelly</td>\n",
       "      <td>2017-01-06</td>\n",
       "      <td>Kleenex began with a crash. It transpired one ...</td>\n",
       "    </tr>\n",
       "    <tr>\n",
       "      <th>4</th>\n",
       "      <td>22725</td>\n",
       "      <td>new start</td>\n",
       "      <td>taso</td>\n",
       "      <td>http://pitchfork.com/reviews/albums/22725-new-...</td>\n",
       "      <td>8.1</td>\n",
       "      <td>kevin lozano</td>\n",
       "      <td>2017-01-06</td>\n",
       "      <td>It is impossible to consider a given release b...</td>\n",
       "    </tr>\n",
       "  </tbody>\n",
       "</table>\n",
       "</div>"
      ],
      "text/plain": [
       "   reviewid            album_name            artist  \\\n",
       "0     22703             mezzanine    massive attack   \n",
       "1     22721          prelapsarian          krallice   \n",
       "2     22659  all of them naturals      uranium club   \n",
       "3     22661           first songs  kleenex, liliput   \n",
       "4     22725             new start              taso   \n",
       "\n",
       "                                              pf_url  pf_score  \\\n",
       "0  http://pitchfork.com/reviews/albums/22703-mezz...       9.3   \n",
       "1  http://pitchfork.com/reviews/albums/22721-prel...       7.9   \n",
       "2  http://pitchfork.com/reviews/albums/22659-all-...       7.3   \n",
       "3  http://pitchfork.com/reviews/albums/22661-firs...       9.0   \n",
       "4  http://pitchfork.com/reviews/albums/22725-new-...       8.1   \n",
       "\n",
       "        pf_author  pf_pubdate  \\\n",
       "0     nate patrin  2017-01-08   \n",
       "1        zoe camp  2017-01-07   \n",
       "2  david glickman  2017-01-07   \n",
       "3      jenn pelly  2017-01-06   \n",
       "4    kevin lozano  2017-01-06   \n",
       "\n",
       "                                           pf_review  \n",
       "0  “Trip-hop” eventually became a ’90s punchline,...  \n",
       "1  Eight years, five albums, and two EPs in, the ...  \n",
       "2  Minneapolis’ Uranium Club seem to revel in bei...  \n",
       "3  Kleenex began with a crash. It transpired one ...  \n",
       "4  It is impossible to consider a given release b...  "
      ]
     },
     "execution_count": 79,
     "metadata": {},
     "output_type": "execute_result"
    }
   ],
   "source": [
    "pf.head()"
   ]
  },
  {
   "cell_type": "code",
   "execution_count": 81,
   "metadata": {},
   "outputs": [
    {
     "data": {
      "text/plain": [
       "9530                               murmur [deluxe edition]\n",
       "18079                                              animals\n",
       "2474         it takes a nation of millions to hold us back\n",
       "857                                     sign \"o\" the times\n",
       "1399                                          astral weeks\n",
       "5965                  tago mago [40th anniversary edition]\n",
       "10206    otis blue: otis redding sings soul [collector'...\n",
       "8634                                            stereo box\n",
       "4789                                                voodoo\n",
       "530                                             in concert\n",
       "13174                born to run: 30th anniversary edition\n",
       "9320                                       paul's boutique\n",
       "1092                                          off the wall\n",
       "355                                    another green world\n",
       "14565      london calling: 25th anniversary legacy edition\n",
       "7094                         emergency & i [vinyl reissue]\n",
       "2479     the velvet underground  45th anniversary super...\n",
       "1847                                        sticky fingers\n",
       "15267                   no thanks!: the 70s punk rebellion\n",
       "13365                        in the aeroplane over the sea\n",
       "11306                      daydream nation: deluxe edition\n",
       "7189                     my beautiful dark twisted fantasy\n",
       "1407            loaded: re-loaded 45th anniversary edition\n",
       "5249               liquid swords: chess box deluxe edition\n",
       "4724                                   donuts (45 box set)\n",
       "15921                                        the ascension\n",
       "3239                                          the infamous\n",
       "858                                                   1999\n",
       "200                                    blood on the tracks\n",
       "861                                            purple rain\n",
       "15032                      music has the right to children\n",
       "6089                                    the smile sessions\n",
       "6129                                        laughing stock\n",
       "1372     people's instinctive travels and the paths of ...\n",
       "8627                                  magical mystery tour\n",
       "17074                                 yankee hotel foxtrot\n",
       "5494                                        isn't anything\n",
       "12640                                            pink flag\n",
       "17017                                    this year's model\n",
       "6219                  nevermind [20th anniversary edition]\n",
       "9181                             histoire de melody nelson\n",
       "8626                 sgt. pepper's lonely hearts club band\n",
       "191                                              metal box\n",
       "8625                                              revolver\n",
       "17207                                source tags and codes\n",
       "15115                live at the apollo [expanded edition]\n",
       "451                               songs in the key of life\n",
       "8624                                           rubber soul\n",
       "17908                                                kid a\n",
       "4864                              the disintegration loops\n",
       "Name: album_name, dtype: object"
      ]
     },
     "execution_count": 81,
     "metadata": {},
     "output_type": "execute_result"
    }
   ],
   "source": [
    "pf.sort_values('pf_score', ascending = False)['album_name'][:50]"
   ]
  }
 ],
 "metadata": {
  "colab": {
   "authorship_tag": "ABX9TyOqlUyBzawKWpS+cgxJin/4",
   "collapsed_sections": [],
   "name": "DataExploration_AC.ipynb",
   "provenance": []
  },
  "kernelspec": {
   "display_name": "Python 3",
   "language": "python",
   "name": "python3"
  },
  "language_info": {
   "codemirror_mode": {
    "name": "ipython",
    "version": 3
   },
   "file_extension": ".py",
   "mimetype": "text/x-python",
   "name": "python",
   "nbconvert_exporter": "python",
   "pygments_lexer": "ipython3",
   "version": "3.8.5"
  }
 },
 "nbformat": 4,
 "nbformat_minor": 4
}
