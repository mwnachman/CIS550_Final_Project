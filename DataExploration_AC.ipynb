{
 "cells": [
  {
   "cell_type": "code",
   "execution_count": 34,
   "metadata": {
    "executionInfo": {
     "elapsed": 259,
     "status": "ok",
     "timestamp": 1613014744134,
     "user": {
      "displayName": "Andrew Cho",
      "photoUrl": "",
      "userId": "04667029709322104325"
     },
     "user_tz": 300
    },
    "id": "tNurLtaoDLgY"
   },
   "outputs": [],
   "source": [
    "import pandas as pd\n",
    "import numpy as np\n",
    "import os\n",
    "import seaborn as sns\n",
    "import sqlite3\n",
    "import matplotlib.pyplot as plt\n",
    "\n",
    "pd.set_option('display.max_columns', None)\n",
    "pd.set_option('display.max_rows', None)"
   ]
  },
  {
   "cell_type": "code",
   "execution_count": 2,
   "metadata": {},
   "outputs": [],
   "source": [
    "os.chdir('C:/Users/andre/Dropbox/Penn MCIT/CIT 550 Database/Project')"
   ]
  },
  {
   "cell_type": "markdown",
   "metadata": {
    "id": "K6sXD8vtLD0v"
   },
   "source": [
    "# Spotify API"
   ]
  },
  {
   "cell_type": "code",
   "execution_count": 3,
   "metadata": {
    "colab": {
     "base_uri": "https://localhost:8080/"
    },
    "executionInfo": {
     "elapsed": 9855,
     "status": "ok",
     "timestamp": 1613013081164,
     "user": {
      "displayName": "Andrew Cho",
      "photoUrl": "",
      "userId": "04667029709322104325"
     },
     "user_tz": 300
    },
    "id": "aaxvespxDPa9",
    "outputId": "8ac2df76-2ef7-41e1-dba8-bf3cb53b31a5"
   },
   "outputs": [
    {
     "name": "stdout",
     "output_type": "stream",
     "text": [
      "(174389, 19)\n",
      "(1204025, 24)\n"
     ]
    }
   ],
   "source": [
    "df_spotify1 = pd.read_csv('./Data/data.csv.zip')\n",
    "df_spotify2 = pd.read_csv('./Data/tracks_features.csv.zip')\r\n",
    "\n",
    "print(df_spotify1.shape)\n",
    "print(df_spotify2.shape)"
   ]
  },
  {
   "cell_type": "code",
   "execution_count": 4,
   "metadata": {
    "colab": {
     "base_uri": "https://localhost:8080/"
    },
    "executionInfo": {
     "elapsed": 337,
     "status": "ok",
     "timestamp": 1613013103528,
     "user": {
      "displayName": "Andrew Cho",
      "photoUrl": "",
      "userId": "04667029709322104325"
     },
     "user_tz": 300
    },
    "id": "Sgep7n4ZENwq",
    "outputId": "8a4a80e6-4e93-424b-8a20-61918725ffc7"
   },
   "outputs": [
    {
     "data": {
      "text/plain": [
       "Index(['acousticness', 'artists', 'danceability', 'duration_ms', 'energy',\n",
       "       'explicit', 'id', 'instrumentalness', 'key', 'liveness', 'loudness',\n",
       "       'mode', 'name', 'popularity', 'release_date', 'speechiness', 'tempo',\n",
       "       'valence', 'year'],\n",
       "      dtype='object')"
      ]
     },
     "execution_count": 4,
     "metadata": {},
     "output_type": "execute_result"
    }
   ],
   "source": [
    "df_spotify1.columns"
   ]
  },
  {
   "cell_type": "code",
   "execution_count": 5,
   "metadata": {
    "colab": {
     "base_uri": "https://localhost:8080/"
    },
    "executionInfo": {
     "elapsed": 207,
     "status": "ok",
     "timestamp": 1613013112552,
     "user": {
      "displayName": "Andrew Cho",
      "photoUrl": "",
      "userId": "04667029709322104325"
     },
     "user_tz": 300
    },
    "id": "zTChZQ6cEHf-",
    "outputId": "c68140a9-b03d-4172-825e-86109bf53ae6"
   },
   "outputs": [
    {
     "data": {
      "text/plain": [
       "Index(['id', 'name', 'album', 'album_id', 'artists', 'artist_ids',\n",
       "       'track_number', 'disc_number', 'explicit', 'danceability', 'energy',\n",
       "       'key', 'loudness', 'mode', 'speechiness', 'acousticness',\n",
       "       'instrumentalness', 'liveness', 'valence', 'tempo', 'duration_ms',\n",
       "       'time_signature', 'year', 'release_date'],\n",
       "      dtype='object')"
      ]
     },
     "execution_count": 5,
     "metadata": {},
     "output_type": "execute_result"
    }
   ],
   "source": [
    "df_spotify2.columns"
   ]
  },
  {
   "cell_type": "code",
   "execution_count": 6,
   "metadata": {
    "colab": {
     "base_uri": "https://localhost:8080/"
    },
    "executionInfo": {
     "elapsed": 1080,
     "status": "ok",
     "timestamp": 1613014613700,
     "user": {
      "displayName": "Andrew Cho",
      "photoUrl": "",
      "userId": "04667029709322104325"
     },
     "user_tz": 300
    },
    "id": "_bwNWHxgEtwG",
    "outputId": "b1c7f8d7-487d-4c6f-cd6c-fb7231b01f64"
   },
   "outputs": [
    {
     "data": {
      "text/plain": [
       "(21183, 25)"
      ]
     },
     "execution_count": 6,
     "metadata": {},
     "output_type": "execute_result"
    }
   ],
   "source": [
    "merg = df_spotify2.merge(df_spotify1[['id', 'popularity']], how = 'inner')\n",
    "\n",
    "merg.shape"
   ]
  },
  {
   "cell_type": "code",
   "execution_count": 7,
   "metadata": {
    "colab": {
     "base_uri": "https://localhost:8080/",
     "height": 388
    },
    "executionInfo": {
     "elapsed": 10068,
     "status": "ok",
     "timestamp": 1613014182304,
     "user": {
      "displayName": "Andrew Cho",
      "photoUrl": "",
      "userId": "04667029709322104325"
     },
     "user_tz": 300
    },
    "id": "y4kwgky0Fbuv",
    "outputId": "64726a15-9bc6-4e36-e40c-21215fb50f36"
   },
   "outputs": [
    {
     "name": "stderr",
     "output_type": "stream",
     "text": [
      "C:\\Users\\andre\\anaconda3\\lib\\site-packages\\seaborn\\distributions.py:2551: FutureWarning: `distplot` is a deprecated function and will be removed in a future version. Please adapt your code to use either `displot` (a figure-level function with similar flexibility) or `kdeplot` (an axes-level function for kernel density plots).\n",
      "  warnings.warn(msg, FutureWarning)\n",
      "C:\\Users\\andre\\anaconda3\\lib\\site-packages\\seaborn\\distributions.py:2551: FutureWarning: `distplot` is a deprecated function and will be removed in a future version. Please adapt your code to use either `displot` (a figure-level function with similar flexibility) or `kdeplot` (an axes-level function for kernel density plots).\n",
      "  warnings.warn(msg, FutureWarning)\n"
     ]
    },
    {
     "data": {
      "image/png": "[encoded data removed]",
      "text/plain": [
       "<Figure size 432x288 with 1 Axes>"
      ]
     },
     "metadata": {
      "needs_background": "light"
     },
     "output_type": "display_data"
    }
   ],
   "source": [
    "sns.distplot(df_spotify1['year'], hist = False, label = 'data160K')\n",
    "sns.distplot(df_spotify2[df_spotify2['year'] > 1900]['year'], hist = False, label = 'data1M')\n",
    "\n",
    "plt.title('Comparing Year Distributions')\n",
    "plt.legend()\n",
    "\n",
    "plt.show()"
   ]
  },
  {
   "cell_type": "markdown",
   "metadata": {},
   "source": [
    "# Album ratings"
   ]
  },
  {
   "cell_type": "code",
   "execution_count": 8,
   "metadata": {},
   "outputs": [
    {
     "data": {
      "text/plain": [
       "(32358, 16)"
      ]
     },
     "execution_count": 8,
     "metadata": {},
     "output_type": "execute_result"
    }
   ],
   "source": [
    "album = pd.read_csv('./Data/album_ratings.csv.zip')\n",
    "album.shape"
   ]
  },
  {
   "cell_type": "code",
   "execution_count": 9,
   "metadata": {},
   "outputs": [
    {
     "data": {
      "text/html": [
       "<div>\n",
       "<style scoped>\n",
       "    .dataframe tbody tr th:only-of-type {\n",
       "        vertical-align: middle;\n",
       "    }\n",
       "\n",
       "    .dataframe tbody tr th {\n",
       "        vertical-align: top;\n",
       "    }\n",
       "\n",
       "    .dataframe thead th {\n",
       "        text-align: right;\n",
       "    }\n",
       "</style>\n",
       "<table border=\"1\" class=\"dataframe\">\n",
       "  <thead>\n",
       "    <tr style=\"text-align: right;\">\n",
       "      <th></th>\n",
       "      <th>Artist</th>\n",
       "      <th>Title</th>\n",
       "      <th>Release Month</th>\n",
       "      <th>Release Day</th>\n",
       "      <th>Release Year</th>\n",
       "      <th>Format</th>\n",
       "      <th>Label</th>\n",
       "      <th>Genre</th>\n",
       "      <th>Metacritic Critic Score</th>\n",
       "      <th>Metacritic Reviews</th>\n",
       "      <th>Metacritic User Score</th>\n",
       "      <th>Metacritic User Reviews</th>\n",
       "      <th>AOTY Critic Score</th>\n",
       "      <th>AOTY Critic Reviews</th>\n",
       "      <th>AOTY User Score</th>\n",
       "      <th>AOTY User Reviews</th>\n",
       "    </tr>\n",
       "  </thead>\n",
       "  <tbody>\n",
       "    <tr>\n",
       "      <th>0</th>\n",
       "      <td>Neko Case</td>\n",
       "      <td>Middle Cyclone</td>\n",
       "      <td>March</td>\n",
       "      <td>3</td>\n",
       "      <td>2009</td>\n",
       "      <td>LP</td>\n",
       "      <td>ANTI-</td>\n",
       "      <td>Alt-Country</td>\n",
       "      <td>79.0</td>\n",
       "      <td>31.0</td>\n",
       "      <td>8.7</td>\n",
       "      <td>31.0</td>\n",
       "      <td>79</td>\n",
       "      <td>25</td>\n",
       "      <td>78</td>\n",
       "      <td>55</td>\n",
       "    </tr>\n",
       "    <tr>\n",
       "      <th>1</th>\n",
       "      <td>Jason Isbell &amp; The 400 Unit</td>\n",
       "      <td>Jason Isbell &amp; The 400 Unit</td>\n",
       "      <td>February</td>\n",
       "      <td>17</td>\n",
       "      <td>2009</td>\n",
       "      <td>LP</td>\n",
       "      <td>Thirty Tigers</td>\n",
       "      <td>Country Rock</td>\n",
       "      <td>70.0</td>\n",
       "      <td>14.0</td>\n",
       "      <td>8.4</td>\n",
       "      <td>7.0</td>\n",
       "      <td>73</td>\n",
       "      <td>11</td>\n",
       "      <td>73</td>\n",
       "      <td>8</td>\n",
       "    </tr>\n",
       "    <tr>\n",
       "      <th>2</th>\n",
       "      <td>Animal Collective</td>\n",
       "      <td>Merriweather Post Pavilion</td>\n",
       "      <td>January</td>\n",
       "      <td>20</td>\n",
       "      <td>2009</td>\n",
       "      <td>LP</td>\n",
       "      <td>Domino</td>\n",
       "      <td>Psychedelic Pop</td>\n",
       "      <td>89.0</td>\n",
       "      <td>36.0</td>\n",
       "      <td>8.5</td>\n",
       "      <td>619.0</td>\n",
       "      <td>92</td>\n",
       "      <td>30</td>\n",
       "      <td>87</td>\n",
       "      <td>1335</td>\n",
       "    </tr>\n",
       "    <tr>\n",
       "      <th>3</th>\n",
       "      <td>Bruce Springsteen</td>\n",
       "      <td>Working on a Dream</td>\n",
       "      <td>January</td>\n",
       "      <td>27</td>\n",
       "      <td>2009</td>\n",
       "      <td>LP</td>\n",
       "      <td>Columbia Records</td>\n",
       "      <td>Rock</td>\n",
       "      <td>72.0</td>\n",
       "      <td>29.0</td>\n",
       "      <td>7.9</td>\n",
       "      <td>101.0</td>\n",
       "      <td>70</td>\n",
       "      <td>23</td>\n",
       "      <td>66</td>\n",
       "      <td>38</td>\n",
       "    </tr>\n",
       "    <tr>\n",
       "      <th>4</th>\n",
       "      <td>Andrew Bird</td>\n",
       "      <td>Noble Beast</td>\n",
       "      <td>January</td>\n",
       "      <td>20</td>\n",
       "      <td>2009</td>\n",
       "      <td>LP</td>\n",
       "      <td>Fat Possum</td>\n",
       "      <td>Singer-Songwriter</td>\n",
       "      <td>79.0</td>\n",
       "      <td>29.0</td>\n",
       "      <td>8.7</td>\n",
       "      <td>47.0</td>\n",
       "      <td>74</td>\n",
       "      <td>24</td>\n",
       "      <td>78</td>\n",
       "      <td>44</td>\n",
       "    </tr>\n",
       "  </tbody>\n",
       "</table>\n",
       "</div>"
      ],
      "text/plain": [
       "                        Artist                        Title Release Month  \\\n",
       "0                    Neko Case               Middle Cyclone         March   \n",
       "1  Jason Isbell & The 400 Unit  Jason Isbell & The 400 Unit      February   \n",
       "2            Animal Collective   Merriweather Post Pavilion       January   \n",
       "3            Bruce Springsteen           Working on a Dream       January   \n",
       "4                  Andrew Bird                  Noble Beast       January   \n",
       "\n",
       "  Release Day  Release Year Format             Label              Genre  \\\n",
       "0           3          2009     LP             ANTI-        Alt-Country   \n",
       "1          17          2009     LP     Thirty Tigers       Country Rock   \n",
       "2          20          2009     LP            Domino    Psychedelic Pop   \n",
       "3          27          2009     LP  Columbia Records               Rock   \n",
       "4          20          2009     LP        Fat Possum  Singer-Songwriter   \n",
       "\n",
       "   Metacritic Critic Score  Metacritic Reviews  Metacritic User Score  \\\n",
       "0                     79.0                31.0                    8.7   \n",
       "1                     70.0                14.0                    8.4   \n",
       "2                     89.0                36.0                    8.5   \n",
       "3                     72.0                29.0                    7.9   \n",
       "4                     79.0                29.0                    8.7   \n",
       "\n",
       "   Metacritic User Reviews  AOTY Critic Score  AOTY Critic Reviews  \\\n",
       "0                     31.0                 79                   25   \n",
       "1                      7.0                 73                   11   \n",
       "2                    619.0                 92                   30   \n",
       "3                    101.0                 70                   23   \n",
       "4                     47.0                 74                   24   \n",
       "\n",
       "   AOTY User Score  AOTY User Reviews  \n",
       "0               78                 55  \n",
       "1               73                  8  \n",
       "2               87               1335  \n",
       "3               66                 38  \n",
       "4               78                 44  "
      ]
     },
     "execution_count": 9,
     "metadata": {},
     "output_type": "execute_result"
    }
   ],
   "source": [
    "album.head()"
   ]
  },
  {
   "cell_type": "code",
   "execution_count": 10,
   "metadata": {},
   "outputs": [
    {
     "data": {
      "text/html": [
       "<div>\n",
       "<style scoped>\n",
       "    .dataframe tbody tr th:only-of-type {\n",
       "        vertical-align: middle;\n",
       "    }\n",
       "\n",
       "    .dataframe tbody tr th {\n",
       "        vertical-align: top;\n",
       "    }\n",
       "\n",
       "    .dataframe thead th {\n",
       "        text-align: right;\n",
       "    }\n",
       "</style>\n",
       "<table border=\"1\" class=\"dataframe\">\n",
       "  <thead>\n",
       "    <tr style=\"text-align: right;\">\n",
       "      <th></th>\n",
       "      <th>Release Year</th>\n",
       "      <th>Metacritic Critic Score</th>\n",
       "      <th>Metacritic Reviews</th>\n",
       "      <th>Metacritic User Score</th>\n",
       "      <th>Metacritic User Reviews</th>\n",
       "      <th>AOTY Critic Score</th>\n",
       "      <th>AOTY Critic Reviews</th>\n",
       "      <th>AOTY User Score</th>\n",
       "      <th>AOTY User Reviews</th>\n",
       "    </tr>\n",
       "  </thead>\n",
       "  <tbody>\n",
       "    <tr>\n",
       "      <th>count</th>\n",
       "      <td>32358.00</td>\n",
       "      <td>13884.00</td>\n",
       "      <td>13884.00</td>\n",
       "      <td>9099.00</td>\n",
       "      <td>10574.00</td>\n",
       "      <td>32358.00</td>\n",
       "      <td>32358.00</td>\n",
       "      <td>32358.00</td>\n",
       "      <td>32358.00</td>\n",
       "    </tr>\n",
       "    <tr>\n",
       "      <th>mean</th>\n",
       "      <td>2006.67</td>\n",
       "      <td>73.29</td>\n",
       "      <td>12.48</td>\n",
       "      <td>7.78</td>\n",
       "      <td>63.16</td>\n",
       "      <td>72.81</td>\n",
       "      <td>5.65</td>\n",
       "      <td>71.28</td>\n",
       "      <td>61.99</td>\n",
       "    </tr>\n",
       "    <tr>\n",
       "      <th>std</th>\n",
       "      <td>14.13</td>\n",
       "      <td>8.40</td>\n",
       "      <td>7.91</td>\n",
       "      <td>0.98</td>\n",
       "      <td>325.20</td>\n",
       "      <td>11.21</td>\n",
       "      <td>6.18</td>\n",
       "      <td>9.65</td>\n",
       "      <td>184.22</td>\n",
       "    </tr>\n",
       "    <tr>\n",
       "      <th>min</th>\n",
       "      <td>1940.00</td>\n",
       "      <td>15.00</td>\n",
       "      <td>4.00</td>\n",
       "      <td>1.40</td>\n",
       "      <td>3.00</td>\n",
       "      <td>4.00</td>\n",
       "      <td>1.00</td>\n",
       "      <td>0.00</td>\n",
       "      <td>1.00</td>\n",
       "    </tr>\n",
       "    <tr>\n",
       "      <th>25%</th>\n",
       "      <td>2002.00</td>\n",
       "      <td>69.00</td>\n",
       "      <td>6.00</td>\n",
       "      <td>7.40</td>\n",
       "      <td>8.00</td>\n",
       "      <td>67.00</td>\n",
       "      <td>2.00</td>\n",
       "      <td>67.00</td>\n",
       "      <td>7.00</td>\n",
       "    </tr>\n",
       "    <tr>\n",
       "      <th>50%</th>\n",
       "      <td>2012.00</td>\n",
       "      <td>74.00</td>\n",
       "      <td>10.00</td>\n",
       "      <td>8.00</td>\n",
       "      <td>14.00</td>\n",
       "      <td>74.00</td>\n",
       "      <td>3.00</td>\n",
       "      <td>73.00</td>\n",
       "      <td>14.00</td>\n",
       "    </tr>\n",
       "    <tr>\n",
       "      <th>75%</th>\n",
       "      <td>2017.00</td>\n",
       "      <td>79.00</td>\n",
       "      <td>17.00</td>\n",
       "      <td>8.50</td>\n",
       "      <td>37.00</td>\n",
       "      <td>80.00</td>\n",
       "      <td>7.00</td>\n",
       "      <td>78.00</td>\n",
       "      <td>39.00</td>\n",
       "    </tr>\n",
       "    <tr>\n",
       "      <th>max</th>\n",
       "      <td>2020.00</td>\n",
       "      <td>98.00</td>\n",
       "      <td>51.00</td>\n",
       "      <td>9.50</td>\n",
       "      <td>14720.00</td>\n",
       "      <td>100.00</td>\n",
       "      <td>48.00</td>\n",
       "      <td>100.00</td>\n",
       "      <td>4530.00</td>\n",
       "    </tr>\n",
       "  </tbody>\n",
       "</table>\n",
       "</div>"
      ],
      "text/plain": [
       "       Release Year  Metacritic Critic Score  Metacritic Reviews  \\\n",
       "count      32358.00                 13884.00            13884.00   \n",
       "mean        2006.67                    73.29               12.48   \n",
       "std           14.13                     8.40                7.91   \n",
       "min         1940.00                    15.00                4.00   \n",
       "25%         2002.00                    69.00                6.00   \n",
       "50%         2012.00                    74.00               10.00   \n",
       "75%         2017.00                    79.00               17.00   \n",
       "max         2020.00                    98.00               51.00   \n",
       "\n",
       "       Metacritic User Score  Metacritic User Reviews  AOTY Critic Score  \\\n",
       "count                9099.00                 10574.00           32358.00   \n",
       "mean                    7.78                    63.16              72.81   \n",
       "std                     0.98                   325.20              11.21   \n",
       "min                     1.40                     3.00               4.00   \n",
       "25%                     7.40                     8.00              67.00   \n",
       "50%                     8.00                    14.00              74.00   \n",
       "75%                     8.50                    37.00              80.00   \n",
       "max                     9.50                 14720.00             100.00   \n",
       "\n",
       "       AOTY Critic Reviews  AOTY User Score  AOTY User Reviews  \n",
       "count             32358.00         32358.00           32358.00  \n",
       "mean                  5.65            71.28              61.99  \n",
       "std                   6.18             9.65             184.22  \n",
       "min                   1.00             0.00               1.00  \n",
       "25%                   2.00            67.00               7.00  \n",
       "50%                   3.00            73.00              14.00  \n",
       "75%                   7.00            78.00              39.00  \n",
       "max                  48.00           100.00            4530.00  "
      ]
     },
     "execution_count": 10,
     "metadata": {},
     "output_type": "execute_result"
    }
   ],
   "source": [
    "round(album.describe(), 2)"
   ]
  },
  {
   "cell_type": "markdown",
   "metadata": {
    "id": "VbFYNIe0Fb5N"
   },
   "source": [
    "# Pitchfork database"
   ]
  },
  {
   "cell_type": "code",
   "execution_count": 11,
   "metadata": {
    "executionInfo": {
     "elapsed": 923,
     "status": "ok",
     "timestamp": 1613014940649,
     "user": {
      "displayName": "Andrew Cho",
      "photoUrl": "",
      "userId": "04667029709322104325"
     },
     "user_tz": 300
    },
    "id": "pk86owiCFb_l"
   },
   "outputs": [],
   "source": [
    "con = sqlite3.connect(\"./Data/database.sqlite\")"
   ]
  },
  {
   "cell_type": "code",
   "execution_count": 12,
   "metadata": {
    "colab": {
     "base_uri": "https://localhost:8080/"
    },
    "executionInfo": {
     "elapsed": 797,
     "status": "ok",
     "timestamp": 1613015250010,
     "user": {
      "displayName": "Andrew Cho",
      "photoUrl": "",
      "userId": "04667029709322104325"
     },
     "user_tz": 300
    },
    "id": "Rx7dYoISFcGs",
    "outputId": "9dc726ca-0ecc-46d0-d09b-161232f0f3fa"
   },
   "outputs": [
    {
     "name": "stdout",
     "output_type": "stream",
     "text": [
      "---artists---\n",
      "   reviewid          artist\n",
      "0     22703  massive attack\n",
      "1     22721        krallice\n",
      "===================================\n",
      "---content---\n",
      "   reviewid                                            content\n",
      "0     22703  “Trip-hop” eventually became a ’90s punchline,...\n",
      "1     22721  Eight years, five albums, and two EPs in, the ...\n",
      "===================================\n",
      "---genres---\n",
      "   reviewid       genre\n",
      "0     22703  electronic\n",
      "1     22721       metal\n",
      "===================================\n",
      "---labels---\n",
      "   reviewid      label\n",
      "0     22703     virgin\n",
      "1     22721  hathenter\n",
      "===================================\n",
      "---reviews---\n",
      "   reviewid         title          artist  \\\n",
      "0     22703     mezzanine  massive attack   \n",
      "1     22721  prelapsarian        krallice   \n",
      "\n",
      "                                                 url  score  best_new_music  \\\n",
      "0  http://pitchfork.com/reviews/albums/22703-mezz...    9.3               0   \n",
      "1  http://pitchfork.com/reviews/albums/22721-prel...    7.9               0   \n",
      "\n",
      "        author  author_type    pub_date  pub_weekday  pub_day  pub_month  \\\n",
      "0  nate patrin  contributor  2017-01-08            6        8          1   \n",
      "1     zoe camp  contributor  2017-01-07            5        7          1   \n",
      "\n",
      "   pub_year  \n",
      "0      2017  \n",
      "1      2017  \n",
      "===================================\n",
      "---years---\n",
      "   reviewid    year\n",
      "0     22703  1998.0\n",
      "1     22721  2016.0\n",
      "===================================\n"
     ]
    }
   ],
   "source": [
    "tables = [\n",
    "          'artists', \n",
    "          'content',\n",
    "          'genres',\n",
    "          'labels',\n",
    "          'reviews',\n",
    "          'years'\n",
    "]\n",
    "\n",
    "for tbl in tables:\n",
    "  print(f'---{tbl}---')\n",
    "  print(pd.read_sql_query(f\"SELECT * FROM {tbl}\", con).head(2))\n",
    "  print('===================================')"
   ]
  },
  {
   "cell_type": "code",
   "execution_count": 13,
   "metadata": {
    "colab": {
     "base_uri": "https://localhost:8080/"
    },
    "executionInfo": {
     "elapsed": 299,
     "status": "ok",
     "timestamp": 1613015700168,
     "user": {
      "displayName": "Andrew Cho",
      "photoUrl": "",
      "userId": "04667029709322104325"
     },
     "user_tz": 300
    },
    "id": "3zVsrExyOZZY",
    "outputId": "d625c689-ec4d-4a4c-8608-f9c90cadc04a"
   },
   "outputs": [
    {
     "data": {
      "text/plain": [
       "6.659582594929823"
      ]
     },
     "execution_count": 13,
     "metadata": {},
     "output_type": "execute_result"
    }
   ],
   "source": [
    "# Need to pull STD via pandas. not sure why SQL won't do STDEV\n",
    "pd.read_sql_query('select * from years', con)['year'].std()"
   ]
  },
  {
   "cell_type": "code",
   "execution_count": 14,
   "metadata": {
    "colab": {
     "base_uri": "https://localhost:8080/",
     "height": 201
    },
    "executionInfo": {
     "elapsed": 212,
     "status": "ok",
     "timestamp": 1613015848348,
     "user": {
      "displayName": "Andrew Cho",
      "photoUrl": "",
      "userId": "04667029709322104325"
     },
     "user_tz": 300
    },
    "id": "SINwb9PYO_of",
    "outputId": "dae38275-65d2-4be8-eb9c-ebe80388b786"
   },
   "outputs": [
    {
     "data": {
      "text/html": [
       "<div>\n",
       "<style scoped>\n",
       "    .dataframe tbody tr th:only-of-type {\n",
       "        vertical-align: middle;\n",
       "    }\n",
       "\n",
       "    .dataframe tbody tr th {\n",
       "        vertical-align: top;\n",
       "    }\n",
       "\n",
       "    .dataframe thead th {\n",
       "        text-align: right;\n",
       "    }\n",
       "</style>\n",
       "<table border=\"1\" class=\"dataframe\">\n",
       "  <thead>\n",
       "    <tr style=\"text-align: right;\">\n",
       "      <th></th>\n",
       "      <th>reviewid</th>\n",
       "      <th>title</th>\n",
       "      <th>artist</th>\n",
       "      <th>url</th>\n",
       "      <th>score</th>\n",
       "      <th>best_new_music</th>\n",
       "      <th>author</th>\n",
       "      <th>author_type</th>\n",
       "      <th>pub_date</th>\n",
       "      <th>pub_weekday</th>\n",
       "      <th>pub_day</th>\n",
       "      <th>pub_month</th>\n",
       "      <th>pub_year</th>\n",
       "    </tr>\n",
       "  </thead>\n",
       "  <tbody>\n",
       "    <tr>\n",
       "      <th>0</th>\n",
       "      <td>22703</td>\n",
       "      <td>mezzanine</td>\n",
       "      <td>massive attack</td>\n",
       "      <td>http://pitchfork.com/reviews/albums/22703-mezz...</td>\n",
       "      <td>9.3</td>\n",
       "      <td>0</td>\n",
       "      <td>nate patrin</td>\n",
       "      <td>contributor</td>\n",
       "      <td>2017-01-08</td>\n",
       "      <td>6</td>\n",
       "      <td>8</td>\n",
       "      <td>1</td>\n",
       "      <td>2017</td>\n",
       "    </tr>\n",
       "    <tr>\n",
       "      <th>1</th>\n",
       "      <td>22721</td>\n",
       "      <td>prelapsarian</td>\n",
       "      <td>krallice</td>\n",
       "      <td>http://pitchfork.com/reviews/albums/22721-prel...</td>\n",
       "      <td>7.9</td>\n",
       "      <td>0</td>\n",
       "      <td>zoe camp</td>\n",
       "      <td>contributor</td>\n",
       "      <td>2017-01-07</td>\n",
       "      <td>5</td>\n",
       "      <td>7</td>\n",
       "      <td>1</td>\n",
       "      <td>2017</td>\n",
       "    </tr>\n",
       "  </tbody>\n",
       "</table>\n",
       "</div>"
      ],
      "text/plain": [
       "   reviewid         title          artist  \\\n",
       "0     22703     mezzanine  massive attack   \n",
       "1     22721  prelapsarian        krallice   \n",
       "\n",
       "                                                 url  score  best_new_music  \\\n",
       "0  http://pitchfork.com/reviews/albums/22703-mezz...    9.3               0   \n",
       "1  http://pitchfork.com/reviews/albums/22721-prel...    7.9               0   \n",
       "\n",
       "        author  author_type    pub_date  pub_weekday  pub_day  pub_month  \\\n",
       "0  nate patrin  contributor  2017-01-08            6        8          1   \n",
       "1     zoe camp  contributor  2017-01-07            5        7          1   \n",
       "\n",
       "   pub_year  \n",
       "0      2017  \n",
       "1      2017  "
      ]
     },
     "execution_count": 14,
     "metadata": {},
     "output_type": "execute_result"
    }
   ],
   "source": [
    "query_str = \\\n",
    "\"\"\"\n",
    "SELECT *\n",
    "FROM reviews\n",
    "LIMIT 2\n",
    "\"\"\"\n",
    "\n",
    "pd.read_sql_query(query_str, con)"
   ]
  },
  {
   "cell_type": "code",
   "execution_count": 46,
   "metadata": {},
   "outputs": [
    {
     "data": {
      "text/plain": [
       "(18401, 8)"
      ]
     },
     "execution_count": 46,
     "metadata": {},
     "output_type": "execute_result"
    }
   ],
   "source": [
    "# Make a pandas df with just the columns we need\n",
    "query_str = \\\n",
    "\"\"\"\n",
    "SELECT \n",
    "    t1.reviewid\n",
    "    , t1.title as album_name\n",
    "    , t1.artist\n",
    "    , t1.url as pf_url\n",
    "    , t1.score as pf_score\n",
    "    , t1.author as pf_author\n",
    "    , t1.pub_date as pf_pubdate\n",
    "    , t2.content as pf_review\n",
    "FROM reviews t1 \n",
    "    JOIN content t2 ON t1.reviewid = t2.reviewid\n",
    "\"\"\"\n",
    "\n",
    "pf = pd.read_sql_query(query_str, con)\n",
    "pf.shape"
   ]
  },
  {
   "cell_type": "code",
   "execution_count": 44,
   "metadata": {},
   "outputs": [
    {
     "data": {
      "text/html": [
       "<div>\n",
       "<style scoped>\n",
       "    .dataframe tbody tr th:only-of-type {\n",
       "        vertical-align: middle;\n",
       "    }\n",
       "\n",
       "    .dataframe tbody tr th {\n",
       "        vertical-align: top;\n",
       "    }\n",
       "\n",
       "    .dataframe thead th {\n",
       "        text-align: right;\n",
       "    }\n",
       "</style>\n",
       "<table border=\"1\" class=\"dataframe\">\n",
       "  <thead>\n",
       "    <tr style=\"text-align: right;\">\n",
       "      <th></th>\n",
       "      <th>reviewid</th>\n",
       "      <th>album_name</th>\n",
       "      <th>artist</th>\n",
       "      <th>pf_url</th>\n",
       "      <th>pf_score</th>\n",
       "      <th>pf_author</th>\n",
       "      <th>pf_pubdate</th>\n",
       "      <th>pf_review</th>\n",
       "    </tr>\n",
       "  </thead>\n",
       "  <tbody>\n",
       "    <tr>\n",
       "      <th>0</th>\n",
       "      <td>22703</td>\n",
       "      <td>mezzanine</td>\n",
       "      <td>massive attack</td>\n",
       "      <td>http://pitchfork.com/reviews/albums/22703-mezz...</td>\n",
       "      <td>9.3</td>\n",
       "      <td>nate patrin</td>\n",
       "      <td>2017-01-08</td>\n",
       "      <td>“Trip-hop” eventually became a ’90s punchline,...</td>\n",
       "    </tr>\n",
       "    <tr>\n",
       "      <th>1</th>\n",
       "      <td>22721</td>\n",
       "      <td>prelapsarian</td>\n",
       "      <td>krallice</td>\n",
       "      <td>http://pitchfork.com/reviews/albums/22721-prel...</td>\n",
       "      <td>7.9</td>\n",
       "      <td>zoe camp</td>\n",
       "      <td>2017-01-07</td>\n",
       "      <td>Eight years, five albums, and two EPs in, the ...</td>\n",
       "    </tr>\n",
       "    <tr>\n",
       "      <th>2</th>\n",
       "      <td>22659</td>\n",
       "      <td>all of them naturals</td>\n",
       "      <td>uranium club</td>\n",
       "      <td>http://pitchfork.com/reviews/albums/22659-all-...</td>\n",
       "      <td>7.3</td>\n",
       "      <td>david glickman</td>\n",
       "      <td>2017-01-07</td>\n",
       "      <td>Minneapolis’ Uranium Club seem to revel in bei...</td>\n",
       "    </tr>\n",
       "    <tr>\n",
       "      <th>3</th>\n",
       "      <td>22661</td>\n",
       "      <td>first songs</td>\n",
       "      <td>kleenex, liliput</td>\n",
       "      <td>http://pitchfork.com/reviews/albums/22661-firs...</td>\n",
       "      <td>9.0</td>\n",
       "      <td>jenn pelly</td>\n",
       "      <td>2017-01-06</td>\n",
       "      <td>Kleenex began with a crash. It transpired one ...</td>\n",
       "    </tr>\n",
       "    <tr>\n",
       "      <th>4</th>\n",
       "      <td>22725</td>\n",
       "      <td>new start</td>\n",
       "      <td>taso</td>\n",
       "      <td>http://pitchfork.com/reviews/albums/22725-new-...</td>\n",
       "      <td>8.1</td>\n",
       "      <td>kevin lozano</td>\n",
       "      <td>2017-01-06</td>\n",
       "      <td>It is impossible to consider a given release b...</td>\n",
       "    </tr>\n",
       "  </tbody>\n",
       "</table>\n",
       "</div>"
      ],
      "text/plain": [
       "   reviewid            album_name            artist  \\\n",
       "0     22703             mezzanine    massive attack   \n",
       "1     22721          prelapsarian          krallice   \n",
       "2     22659  all of them naturals      uranium club   \n",
       "3     22661           first songs  kleenex, liliput   \n",
       "4     22725             new start              taso   \n",
       "\n",
       "                                              pf_url  pf_score  \\\n",
       "0  http://pitchfork.com/reviews/albums/22703-mezz...       9.3   \n",
       "1  http://pitchfork.com/reviews/albums/22721-prel...       7.9   \n",
       "2  http://pitchfork.com/reviews/albums/22659-all-...       7.3   \n",
       "3  http://pitchfork.com/reviews/albums/22661-firs...       9.0   \n",
       "4  http://pitchfork.com/reviews/albums/22725-new-...       8.1   \n",
       "\n",
       "        pf_author  pf_pubdate  \\\n",
       "0     nate patrin  2017-01-08   \n",
       "1        zoe camp  2017-01-07   \n",
       "2  david glickman  2017-01-07   \n",
       "3      jenn pelly  2017-01-06   \n",
       "4    kevin lozano  2017-01-06   \n",
       "\n",
       "                                           pf_review  \n",
       "0  “Trip-hop” eventually became a ’90s punchline,...  \n",
       "1  Eight years, five albums, and two EPs in, the ...  \n",
       "2  Minneapolis’ Uranium Club seem to revel in bei...  \n",
       "3  Kleenex began with a crash. It transpired one ...  \n",
       "4  It is impossible to consider a given release b...  "
      ]
     },
     "execution_count": 44,
     "metadata": {},
     "output_type": "execute_result"
    }
   ],
   "source": [
    "pf.head()"
   ]
  },
  {
   "cell_type": "markdown",
   "metadata": {},
   "source": [
    "# Create master table"
   ]
  },
  {
   "cell_type": "code",
   "execution_count": 53,
   "metadata": {},
   "outputs": [],
   "source": [
    "# Merge Spotify with album ratings\n",
    "df = df_spotify2.merge(album, left_on = 'album', right_on = 'Title', how = 'outer')\n",
    "\n",
    "# Merge Pitchfork reviews\n",
    "df = df.merge(pf, left_on = 'album', right_on = 'album_name', how = 'outer')"
   ]
  },
  {
   "cell_type": "code",
   "execution_count": 49,
   "metadata": {},
   "outputs": [
    {
     "data": {
      "text/plain": [
       "(1333453, 48)"
      ]
     },
     "execution_count": 49,
     "metadata": {},
     "output_type": "execute_result"
    }
   ],
   "source": [
    "df.shape"
   ]
  },
  {
   "cell_type": "code",
   "execution_count": 54,
   "metadata": {},
   "outputs": [
    {
     "data": {
      "text/html": [
       "<div>\n",
       "<style scoped>\n",
       "    .dataframe tbody tr th:only-of-type {\n",
       "        vertical-align: middle;\n",
       "    }\n",
       "\n",
       "    .dataframe tbody tr th {\n",
       "        vertical-align: top;\n",
       "    }\n",
       "\n",
       "    .dataframe thead th {\n",
       "        text-align: right;\n",
       "    }\n",
       "</style>\n",
       "<table border=\"1\" class=\"dataframe\">\n",
       "  <thead>\n",
       "    <tr style=\"text-align: right;\">\n",
       "      <th></th>\n",
       "      <th>id</th>\n",
       "      <th>name</th>\n",
       "      <th>album</th>\n",
       "      <th>album_id</th>\n",
       "      <th>artists</th>\n",
       "      <th>artist_ids</th>\n",
       "      <th>track_number</th>\n",
       "      <th>disc_number</th>\n",
       "      <th>explicit</th>\n",
       "      <th>danceability</th>\n",
       "      <th>energy</th>\n",
       "      <th>key</th>\n",
       "      <th>loudness</th>\n",
       "      <th>mode</th>\n",
       "      <th>speechiness</th>\n",
       "      <th>acousticness</th>\n",
       "      <th>instrumentalness</th>\n",
       "      <th>liveness</th>\n",
       "      <th>valence</th>\n",
       "      <th>tempo</th>\n",
       "      <th>duration_ms</th>\n",
       "      <th>time_signature</th>\n",
       "      <th>year</th>\n",
       "      <th>release_date</th>\n",
       "      <th>Artist</th>\n",
       "      <th>Title</th>\n",
       "      <th>Release Month</th>\n",
       "      <th>Release Day</th>\n",
       "      <th>Release Year</th>\n",
       "      <th>Format</th>\n",
       "      <th>Label</th>\n",
       "      <th>Genre</th>\n",
       "      <th>Metacritic Critic Score</th>\n",
       "      <th>Metacritic Reviews</th>\n",
       "      <th>Metacritic User Score</th>\n",
       "      <th>Metacritic User Reviews</th>\n",
       "      <th>AOTY Critic Score</th>\n",
       "      <th>AOTY Critic Reviews</th>\n",
       "      <th>AOTY User Score</th>\n",
       "      <th>AOTY User Reviews</th>\n",
       "      <th>reviewid</th>\n",
       "      <th>album_name</th>\n",
       "      <th>artist</th>\n",
       "      <th>pf_url</th>\n",
       "      <th>pf_score</th>\n",
       "      <th>pf_author</th>\n",
       "      <th>pf_pubdate</th>\n",
       "      <th>pf_review</th>\n",
       "    </tr>\n",
       "  </thead>\n",
       "  <tbody>\n",
       "    <tr>\n",
       "      <th>0</th>\n",
       "      <td>7lmeHLHBe4nmXzuXc0HDjk</td>\n",
       "      <td>Testify</td>\n",
       "      <td>The Battle Of Los Angeles</td>\n",
       "      <td>2eia0myWFgoHuttJytCxgX</td>\n",
       "      <td>['Rage Against The Machine']</td>\n",
       "      <td>['2d0hyoQ5ynDBnkvAbJKORj']</td>\n",
       "      <td>1.0</td>\n",
       "      <td>1.0</td>\n",
       "      <td>False</td>\n",
       "      <td>0.470</td>\n",
       "      <td>0.978</td>\n",
       "      <td>7.0</td>\n",
       "      <td>-5.399</td>\n",
       "      <td>1.0</td>\n",
       "      <td>0.0727</td>\n",
       "      <td>0.02610</td>\n",
       "      <td>0.000011</td>\n",
       "      <td>0.3560</td>\n",
       "      <td>0.503</td>\n",
       "      <td>117.906</td>\n",
       "      <td>210133.0</td>\n",
       "      <td>4.0</td>\n",
       "      <td>1999.0</td>\n",
       "      <td>1999-11-02</td>\n",
       "      <td>NaN</td>\n",
       "      <td>NaN</td>\n",
       "      <td>NaN</td>\n",
       "      <td>NaN</td>\n",
       "      <td>NaN</td>\n",
       "      <td>NaN</td>\n",
       "      <td>NaN</td>\n",
       "      <td>NaN</td>\n",
       "      <td>NaN</td>\n",
       "      <td>NaN</td>\n",
       "      <td>NaN</td>\n",
       "      <td>NaN</td>\n",
       "      <td>NaN</td>\n",
       "      <td>NaN</td>\n",
       "      <td>NaN</td>\n",
       "      <td>NaN</td>\n",
       "      <td>NaN</td>\n",
       "      <td>NaN</td>\n",
       "      <td>NaN</td>\n",
       "      <td>NaN</td>\n",
       "      <td>NaN</td>\n",
       "      <td>NaN</td>\n",
       "      <td>NaN</td>\n",
       "      <td>NaN</td>\n",
       "    </tr>\n",
       "    <tr>\n",
       "      <th>1</th>\n",
       "      <td>1wsRitfRRtWyEapl0q22o8</td>\n",
       "      <td>Guerrilla Radio</td>\n",
       "      <td>The Battle Of Los Angeles</td>\n",
       "      <td>2eia0myWFgoHuttJytCxgX</td>\n",
       "      <td>['Rage Against The Machine']</td>\n",
       "      <td>['2d0hyoQ5ynDBnkvAbJKORj']</td>\n",
       "      <td>2.0</td>\n",
       "      <td>1.0</td>\n",
       "      <td>True</td>\n",
       "      <td>0.599</td>\n",
       "      <td>0.957</td>\n",
       "      <td>11.0</td>\n",
       "      <td>-5.764</td>\n",
       "      <td>1.0</td>\n",
       "      <td>0.1880</td>\n",
       "      <td>0.01290</td>\n",
       "      <td>0.000071</td>\n",
       "      <td>0.1550</td>\n",
       "      <td>0.489</td>\n",
       "      <td>103.680</td>\n",
       "      <td>206200.0</td>\n",
       "      <td>4.0</td>\n",
       "      <td>1999.0</td>\n",
       "      <td>1999-11-02</td>\n",
       "      <td>NaN</td>\n",
       "      <td>NaN</td>\n",
       "      <td>NaN</td>\n",
       "      <td>NaN</td>\n",
       "      <td>NaN</td>\n",
       "      <td>NaN</td>\n",
       "      <td>NaN</td>\n",
       "      <td>NaN</td>\n",
       "      <td>NaN</td>\n",
       "      <td>NaN</td>\n",
       "      <td>NaN</td>\n",
       "      <td>NaN</td>\n",
       "      <td>NaN</td>\n",
       "      <td>NaN</td>\n",
       "      <td>NaN</td>\n",
       "      <td>NaN</td>\n",
       "      <td>NaN</td>\n",
       "      <td>NaN</td>\n",
       "      <td>NaN</td>\n",
       "      <td>NaN</td>\n",
       "      <td>NaN</td>\n",
       "      <td>NaN</td>\n",
       "      <td>NaN</td>\n",
       "      <td>NaN</td>\n",
       "    </tr>\n",
       "    <tr>\n",
       "      <th>2</th>\n",
       "      <td>1hR0fIFK2qRG3f3RF70pb7</td>\n",
       "      <td>Calm Like a Bomb</td>\n",
       "      <td>The Battle Of Los Angeles</td>\n",
       "      <td>2eia0myWFgoHuttJytCxgX</td>\n",
       "      <td>['Rage Against The Machine']</td>\n",
       "      <td>['2d0hyoQ5ynDBnkvAbJKORj']</td>\n",
       "      <td>3.0</td>\n",
       "      <td>1.0</td>\n",
       "      <td>False</td>\n",
       "      <td>0.315</td>\n",
       "      <td>0.970</td>\n",
       "      <td>7.0</td>\n",
       "      <td>-5.424</td>\n",
       "      <td>1.0</td>\n",
       "      <td>0.4830</td>\n",
       "      <td>0.02340</td>\n",
       "      <td>0.000002</td>\n",
       "      <td>0.1220</td>\n",
       "      <td>0.370</td>\n",
       "      <td>149.749</td>\n",
       "      <td>298893.0</td>\n",
       "      <td>4.0</td>\n",
       "      <td>1999.0</td>\n",
       "      <td>1999-11-02</td>\n",
       "      <td>NaN</td>\n",
       "      <td>NaN</td>\n",
       "      <td>NaN</td>\n",
       "      <td>NaN</td>\n",
       "      <td>NaN</td>\n",
       "      <td>NaN</td>\n",
       "      <td>NaN</td>\n",
       "      <td>NaN</td>\n",
       "      <td>NaN</td>\n",
       "      <td>NaN</td>\n",
       "      <td>NaN</td>\n",
       "      <td>NaN</td>\n",
       "      <td>NaN</td>\n",
       "      <td>NaN</td>\n",
       "      <td>NaN</td>\n",
       "      <td>NaN</td>\n",
       "      <td>NaN</td>\n",
       "      <td>NaN</td>\n",
       "      <td>NaN</td>\n",
       "      <td>NaN</td>\n",
       "      <td>NaN</td>\n",
       "      <td>NaN</td>\n",
       "      <td>NaN</td>\n",
       "      <td>NaN</td>\n",
       "    </tr>\n",
       "    <tr>\n",
       "      <th>3</th>\n",
       "      <td>2lbASgTSoDO7MTuLAXlTW0</td>\n",
       "      <td>Mic Check</td>\n",
       "      <td>The Battle Of Los Angeles</td>\n",
       "      <td>2eia0myWFgoHuttJytCxgX</td>\n",
       "      <td>['Rage Against The Machine']</td>\n",
       "      <td>['2d0hyoQ5ynDBnkvAbJKORj']</td>\n",
       "      <td>4.0</td>\n",
       "      <td>1.0</td>\n",
       "      <td>True</td>\n",
       "      <td>0.440</td>\n",
       "      <td>0.967</td>\n",
       "      <td>11.0</td>\n",
       "      <td>-5.830</td>\n",
       "      <td>0.0</td>\n",
       "      <td>0.2370</td>\n",
       "      <td>0.16300</td>\n",
       "      <td>0.000004</td>\n",
       "      <td>0.1210</td>\n",
       "      <td>0.574</td>\n",
       "      <td>96.752</td>\n",
       "      <td>213640.0</td>\n",
       "      <td>4.0</td>\n",
       "      <td>1999.0</td>\n",
       "      <td>1999-11-02</td>\n",
       "      <td>NaN</td>\n",
       "      <td>NaN</td>\n",
       "      <td>NaN</td>\n",
       "      <td>NaN</td>\n",
       "      <td>NaN</td>\n",
       "      <td>NaN</td>\n",
       "      <td>NaN</td>\n",
       "      <td>NaN</td>\n",
       "      <td>NaN</td>\n",
       "      <td>NaN</td>\n",
       "      <td>NaN</td>\n",
       "      <td>NaN</td>\n",
       "      <td>NaN</td>\n",
       "      <td>NaN</td>\n",
       "      <td>NaN</td>\n",
       "      <td>NaN</td>\n",
       "      <td>NaN</td>\n",
       "      <td>NaN</td>\n",
       "      <td>NaN</td>\n",
       "      <td>NaN</td>\n",
       "      <td>NaN</td>\n",
       "      <td>NaN</td>\n",
       "      <td>NaN</td>\n",
       "      <td>NaN</td>\n",
       "    </tr>\n",
       "    <tr>\n",
       "      <th>4</th>\n",
       "      <td>1MQTmpYOZ6fcMQc56Hdo7T</td>\n",
       "      <td>Sleep Now In the Fire</td>\n",
       "      <td>The Battle Of Los Angeles</td>\n",
       "      <td>2eia0myWFgoHuttJytCxgX</td>\n",
       "      <td>['Rage Against The Machine']</td>\n",
       "      <td>['2d0hyoQ5ynDBnkvAbJKORj']</td>\n",
       "      <td>5.0</td>\n",
       "      <td>1.0</td>\n",
       "      <td>False</td>\n",
       "      <td>0.426</td>\n",
       "      <td>0.929</td>\n",
       "      <td>2.0</td>\n",
       "      <td>-6.729</td>\n",
       "      <td>1.0</td>\n",
       "      <td>0.0701</td>\n",
       "      <td>0.00162</td>\n",
       "      <td>0.105000</td>\n",
       "      <td>0.0789</td>\n",
       "      <td>0.539</td>\n",
       "      <td>127.059</td>\n",
       "      <td>205600.0</td>\n",
       "      <td>4.0</td>\n",
       "      <td>1999.0</td>\n",
       "      <td>1999-11-02</td>\n",
       "      <td>NaN</td>\n",
       "      <td>NaN</td>\n",
       "      <td>NaN</td>\n",
       "      <td>NaN</td>\n",
       "      <td>NaN</td>\n",
       "      <td>NaN</td>\n",
       "      <td>NaN</td>\n",
       "      <td>NaN</td>\n",
       "      <td>NaN</td>\n",
       "      <td>NaN</td>\n",
       "      <td>NaN</td>\n",
       "      <td>NaN</td>\n",
       "      <td>NaN</td>\n",
       "      <td>NaN</td>\n",
       "      <td>NaN</td>\n",
       "      <td>NaN</td>\n",
       "      <td>NaN</td>\n",
       "      <td>NaN</td>\n",
       "      <td>NaN</td>\n",
       "      <td>NaN</td>\n",
       "      <td>NaN</td>\n",
       "      <td>NaN</td>\n",
       "      <td>NaN</td>\n",
       "      <td>NaN</td>\n",
       "    </tr>\n",
       "  </tbody>\n",
       "</table>\n",
       "</div>"
      ],
      "text/plain": [
       "                       id                   name                      album  \\\n",
       "0  7lmeHLHBe4nmXzuXc0HDjk                Testify  The Battle Of Los Angeles   \n",
       "1  1wsRitfRRtWyEapl0q22o8        Guerrilla Radio  The Battle Of Los Angeles   \n",
       "2  1hR0fIFK2qRG3f3RF70pb7       Calm Like a Bomb  The Battle Of Los Angeles   \n",
       "3  2lbASgTSoDO7MTuLAXlTW0              Mic Check  The Battle Of Los Angeles   \n",
       "4  1MQTmpYOZ6fcMQc56Hdo7T  Sleep Now In the Fire  The Battle Of Los Angeles   \n",
       "\n",
       "                 album_id                       artists  \\\n",
       "0  2eia0myWFgoHuttJytCxgX  ['Rage Against The Machine']   \n",
       "1  2eia0myWFgoHuttJytCxgX  ['Rage Against The Machine']   \n",
       "2  2eia0myWFgoHuttJytCxgX  ['Rage Against The Machine']   \n",
       "3  2eia0myWFgoHuttJytCxgX  ['Rage Against The Machine']   \n",
       "4  2eia0myWFgoHuttJytCxgX  ['Rage Against The Machine']   \n",
       "\n",
       "                   artist_ids  track_number  disc_number explicit  \\\n",
       "0  ['2d0hyoQ5ynDBnkvAbJKORj']           1.0          1.0    False   \n",
       "1  ['2d0hyoQ5ynDBnkvAbJKORj']           2.0          1.0     True   \n",
       "2  ['2d0hyoQ5ynDBnkvAbJKORj']           3.0          1.0    False   \n",
       "3  ['2d0hyoQ5ynDBnkvAbJKORj']           4.0          1.0     True   \n",
       "4  ['2d0hyoQ5ynDBnkvAbJKORj']           5.0          1.0    False   \n",
       "\n",
       "   danceability  energy   key  loudness  mode  speechiness  acousticness  \\\n",
       "0         0.470   0.978   7.0    -5.399   1.0       0.0727       0.02610   \n",
       "1         0.599   0.957  11.0    -5.764   1.0       0.1880       0.01290   \n",
       "2         0.315   0.970   7.0    -5.424   1.0       0.4830       0.02340   \n",
       "3         0.440   0.967  11.0    -5.830   0.0       0.2370       0.16300   \n",
       "4         0.426   0.929   2.0    -6.729   1.0       0.0701       0.00162   \n",
       "\n",
       "   instrumentalness  liveness  valence    tempo  duration_ms  time_signature  \\\n",
       "0          0.000011    0.3560    0.503  117.906     210133.0             4.0   \n",
       "1          0.000071    0.1550    0.489  103.680     206200.0             4.0   \n",
       "2          0.000002    0.1220    0.370  149.749     298893.0             4.0   \n",
       "3          0.000004    0.1210    0.574   96.752     213640.0             4.0   \n",
       "4          0.105000    0.0789    0.539  127.059     205600.0             4.0   \n",
       "\n",
       "     year release_date Artist Title Release Month Release Day  Release Year  \\\n",
       "0  1999.0   1999-11-02    NaN   NaN           NaN         NaN           NaN   \n",
       "1  1999.0   1999-11-02    NaN   NaN           NaN         NaN           NaN   \n",
       "2  1999.0   1999-11-02    NaN   NaN           NaN         NaN           NaN   \n",
       "3  1999.0   1999-11-02    NaN   NaN           NaN         NaN           NaN   \n",
       "4  1999.0   1999-11-02    NaN   NaN           NaN         NaN           NaN   \n",
       "\n",
       "  Format Label Genre  Metacritic Critic Score  Metacritic Reviews  \\\n",
       "0    NaN   NaN   NaN                      NaN                 NaN   \n",
       "1    NaN   NaN   NaN                      NaN                 NaN   \n",
       "2    NaN   NaN   NaN                      NaN                 NaN   \n",
       "3    NaN   NaN   NaN                      NaN                 NaN   \n",
       "4    NaN   NaN   NaN                      NaN                 NaN   \n",
       "\n",
       "   Metacritic User Score  Metacritic User Reviews  AOTY Critic Score  \\\n",
       "0                    NaN                      NaN                NaN   \n",
       "1                    NaN                      NaN                NaN   \n",
       "2                    NaN                      NaN                NaN   \n",
       "3                    NaN                      NaN                NaN   \n",
       "4                    NaN                      NaN                NaN   \n",
       "\n",
       "   AOTY Critic Reviews  AOTY User Score  AOTY User Reviews  reviewid  \\\n",
       "0                  NaN              NaN                NaN       NaN   \n",
       "1                  NaN              NaN                NaN       NaN   \n",
       "2                  NaN              NaN                NaN       NaN   \n",
       "3                  NaN              NaN                NaN       NaN   \n",
       "4                  NaN              NaN                NaN       NaN   \n",
       "\n",
       "  album_name artist pf_url  pf_score pf_author pf_pubdate pf_review  \n",
       "0        NaN    NaN    NaN       NaN       NaN        NaN       NaN  \n",
       "1        NaN    NaN    NaN       NaN       NaN        NaN       NaN  \n",
       "2        NaN    NaN    NaN       NaN       NaN        NaN       NaN  \n",
       "3        NaN    NaN    NaN       NaN       NaN        NaN       NaN  \n",
       "4        NaN    NaN    NaN       NaN       NaN        NaN       NaN  "
      ]
     },
     "execution_count": 54,
     "metadata": {},
     "output_type": "execute_result"
    }
   ],
   "source": [
    "df.head()"
   ]
  },
  {
   "cell_type": "code",
   "execution_count": 56,
   "metadata": {},
   "outputs": [
    {
     "data": {
      "text/plain": [
       "106163"
      ]
     },
     "execution_count": 56,
     "metadata": {},
     "output_type": "execute_result"
    }
   ],
   "source": [
    "len(df['album'].unique())"
   ]
  },
  {
   "cell_type": "code",
   "execution_count": 57,
   "metadata": {},
   "outputs": [
    {
     "data": {
      "text/plain": [
       "106162"
      ]
     },
     "execution_count": 57,
     "metadata": {},
     "output_type": "execute_result"
    }
   ],
   "source": [
    "len(df_spotify2['album'].unique())"
   ]
  },
  {
   "cell_type": "code",
   "execution_count": 58,
   "metadata": {},
   "outputs": [
    {
     "data": {
      "text/plain": [
       "30232"
      ]
     },
     "execution_count": 58,
     "metadata": {},
     "output_type": "execute_result"
    }
   ],
   "source": [
    "len(album['Title'].unique())"
   ]
  },
  {
   "cell_type": "code",
   "execution_count": 59,
   "metadata": {},
   "outputs": [
    {
     "data": {
      "text/plain": [
       "17835"
      ]
     },
     "execution_count": 59,
     "metadata": {},
     "output_type": "execute_result"
    }
   ],
   "source": [
    "len(pf['album_name'].unique())"
   ]
  },
  {
   "cell_type": "code",
   "execution_count": 64,
   "metadata": {},
   "outputs": [
    {
     "name": "stdout",
     "output_type": "stream",
     "text": [
      "Spotify-Album Ratings 7187\n",
      "Spotify-PF Ratings 94\n",
      "PF Rating-Album Ratings 78\n"
     ]
    }
   ],
   "source": [
    "spotify_albums = set(df_spotify2['album'])\n",
    "album_albums = set(album['Title'])\n",
    "pf_albums = set(pf['album_name'])\n",
    "\n",
    "print('Spotify-Album Ratings', len(spotify_albums.intersection(album_albums)))\n",
    "print('Spotify-PF Ratings', len(spotify_albums.intersection(pf_albums)))\n",
    "print('PF Rating-Album Ratings', len(pf_albums.intersection(album_albums)))"
   ]
  }
 ],
 "metadata": {
  "colab": {
   "authorship_tag": "ABX9TyOqlUyBzawKWpS+cgxJin/4",
   "collapsed_sections": [],
   "name": "DataExploration_AC.ipynb",
   "provenance": []
  },
  "kernelspec": {
   "display_name": "Python 3",
   "language": "python",
   "name": "python3"
  },
  "language_info": {
   "codemirror_mode": {
    "name": "ipython",
    "version": 3
   },
   "file_extension": ".py",
   "mimetype": "text/x-python",
   "name": "python",
   "nbconvert_exporter": "python",
   "pygments_lexer": "ipython3",
   "version": "3.8.5"
  }
 },
 "nbformat": 4,
 "nbformat_minor": 4
}
